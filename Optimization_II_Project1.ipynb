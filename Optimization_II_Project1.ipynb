{
 "cells": [
  {
   "cell_type": "markdown",
   "id": "3111b93d",
   "metadata": {},
   "source": [
    "## Problem Overview\n",
    "The goal of this project is to extend the newsvendor model in a few ways to make a better approximation of reality.\n",
    "In our first extension, we will assume that if you don’t print enough newspapers to satisfy demand, then you can send a rush order to the printers to print all that you need. These rushed newspapers cost more to print, we will call the cost per rushed newspaper $g$, where $g>c$. Additionally, if you print more than the demand you must pay a disposal fee of $t$ dollars per newspaper. You could alternatively think about this as receiving money for taking excess newspapers to a recycling center if $t<0$, but for now we’ll think of $t>0$. Putting this together, the objective function is:\n",
    "\n",
    "$$\\max_q \\frac{1}{n}\\sum^n_{i=1}(pD_i-qc-g(D_i-q)^+-t(q-D_i)^+)$$\n",
    "where $(x)^+=max(x,0)$. Part of this project will be to reformulate this as a linear program.\n",
    "\n",
    "In our second extension of the NV model we will assume that price impacts demand linearly with error, $D_i=\\beta_0+\\beta_1p+\\epsilon_i$, and jointly solve for the optimal price and quantity to print. This is in the model with disposal costs, and quick printing costs. To do this, you will be given a data set with price and demand data. You will fit a linear regression to this data, and you will assume the source of randomness is the residuals of this regression. This means once you find $\\beta_0$ and $\\beta_1$ you can find lots of demand data points for any one price: get all your residuals and plug them into the regression equation for that one price. That is, your data becomes just the residuals of your regression, instead of the original price/demand data. If you find $\\beta_0 = 1000$ and $\\beta_1 = −2$ and two of the residuals are 15 and -9, then for a price of \\\\$2 you get 2 demand data points of $1000-2*2+15=1011$ and $1000-2*2-9=9987$.\n",
    "\n",
    "You can see that when demand becomes a function of price like this you must multiply $pD_i$ but this becomes $p(\\beta_0+\\beta_1p+\\epsilon_i)$. This is then a quadratic function of $p$.\n",
    "\n",
    "To solve these problems, you will have to create some dummy variables for each day, $h_i$, that represent some part of the objective; in class we let $h_i$ represent the entire profit for each day. In this problem, you should set $h_i$ to be the negative of cost on each day. Then the objective is the average of revenue plus negative cost, where the revenue part comes from $pD_i$ and the negative cost comes from $h_i$. This way the quadratic part would stay in the objective instead of going down to a constraint when price impacts demand. You still need 2 constraints for the negative cost dummy variables, but these are linear constraints instead of quadratic. This is a little tricky to formulate because the problem is a quadratic program, instead of a linear program. The reason we would define $h_i$ to be negative cost is that we’re maximizing over $h$, so we want negative costs to be as big as possible; we don’t want big costs. Also, the constraints need to be upper bounds on $h$, not lower bounds. You can see this by drawing a similar graph to the one we drew in class when we did the original NV problem. Remember that costs are always positive in this model, so negative costs are always negative. Set you lb accordingly."
   ]
  },
  {
   "cell_type": "code",
   "execution_count": 1,
   "id": "6f4ccd2a",
   "metadata": {},
   "outputs": [],
   "source": [
    "## load in packages\n",
    "import pandas as pd\n",
    "import numpy as np\n",
    "import gurobipy as gp\n",
    "import matplotlib.pyplot as plt\n",
    "plt.style.use('seaborn')\n",
    "%matplotlib inline\n",
    "\n",
    "from sklearn.linear_model import LinearRegression\n",
    "import statsmodels.api as sm"
   ]
  },
  {
   "cell_type": "code",
   "execution_count": 2,
   "id": "a4ee49e0",
   "metadata": {},
   "outputs": [],
   "source": [
    "# load original price-demand data\n",
    "data = pd.read_csv(\"price_demand_data.csv\")"
   ]
  },
  {
   "cell_type": "markdown",
   "id": "bb261059",
   "metadata": {},
   "source": [
    "### 1. Fit a linear regression model to this data set."
   ]
  },
  {
   "cell_type": "code",
   "execution_count": 3,
   "id": "ff7a1699",
   "metadata": {},
   "outputs": [
    {
     "name": "stdout",
     "output_type": "stream",
     "text": [
      "                            OLS Regression Results                            \n",
      "==============================================================================\n",
      "Dep. Variable:                 demand   R-squared:                       0.621\n",
      "Model:                            OLS   Adj. R-squared:                  0.618\n",
      "Method:                 Least Squares   F-statistic:                     159.3\n",
      "Date:                Fri, 17 Feb 2023   Prob (F-statistic):           3.51e-22\n",
      "Time:                        22:14:02   Log-Likelihood:                -636.17\n",
      "No. Observations:                  99   AIC:                             1276.\n",
      "Df Residuals:                      97   BIC:                             1282.\n",
      "Df Model:                           1                                         \n",
      "Covariance Type:            nonrobust                                         \n",
      "==============================================================================\n",
      "                 coef    std err          t      P>|t|      [0.025      0.975]\n",
      "------------------------------------------------------------------------------\n",
      "const       1924.7175    111.334     17.288      0.000    1703.750    2145.685\n",
      "price      -1367.7125    108.379    -12.620      0.000   -1582.816   -1152.609\n",
      "==============================================================================\n",
      "Omnibus:                        0.906   Durbin-Watson:                   1.827\n",
      "Prob(Omnibus):                  0.636   Jarque-Bera (JB):                0.871\n",
      "Skew:                          -0.222   Prob(JB):                        0.647\n",
      "Kurtosis:                       2.881   Cond. No.                         14.6\n",
      "==============================================================================\n",
      "\n",
      "Notes:\n",
      "[1] Standard Errors assume that the covariance matrix of the errors is correctly specified.\n"
     ]
    }
   ],
   "source": [
    "x = data.price\n",
    "y = data.demand\n",
    "# fit the linear regression\n",
    "x = sm.add_constant(x)\n",
    "lm = sm.OLS(y,x).fit()\n",
    "print(lm.summary())"
   ]
  },
  {
   "cell_type": "code",
   "execution_count": 4,
   "id": "53fe3353",
   "metadata": {},
   "outputs": [
    {
     "name": "stdout",
     "output_type": "stream",
     "text": [
      "Di = 1924.718 + (-1367.713) * p\n"
     ]
    },
    {
     "data": {
      "image/png": "[encoded data removed]",
      "text/plain": [
       "<Figure size 432x288 with 1 Axes>"
      ]
     },
     "metadata": {
      "needs_background": "light"
     },
     "output_type": "display_data"
    }
   ],
   "source": [
    "print('Di = {:.3f} + ({:.3f}) * p'.format(lm.params[0], lm.params[1]))\n",
    "\n",
    "plt.scatter(data.price, y)\n",
    "plt.plot(data.price, lm.predict(x), 'r')\n",
    "plt.xlabel('Price ($)')\n",
    "plt.ylabel('Demand')\n",
    "plt.title('Linear Regression on Price vs Demand')\n",
    "plt.show()"
   ]
  },
  {
   "cell_type": "markdown",
   "id": "64eb457d",
   "metadata": {},
   "source": [
    "### 2. Let c=0.5, g=0.75, and t=0.15. Using the residuals, assume the price is p=1 and generate demand data."
   ]
  },
  {
   "cell_type": "code",
   "execution_count": 5,
   "id": "d017056f",
   "metadata": {},
   "outputs": [
    {
     "data": {
      "text/html": [
       "<div>\n",
       "<style scoped>\n",
       "    .dataframe tbody tr th:only-of-type {\n",
       "        vertical-align: middle;\n",
       "    }\n",
       "\n",
       "    .dataframe tbody tr th {\n",
       "        vertical-align: top;\n",
       "    }\n",
       "\n",
       "    .dataframe thead th {\n",
       "        text-align: right;\n",
       "    }\n",
       "</style>\n",
       "<table border=\"1\" class=\"dataframe\">\n",
       "  <thead>\n",
       "    <tr style=\"text-align: right;\">\n",
       "      <th></th>\n",
       "      <th>demand_p=1</th>\n",
       "    </tr>\n",
       "  </thead>\n",
       "  <tbody>\n",
       "    <tr>\n",
       "      <th>0</th>\n",
       "      <td>351.385626</td>\n",
       "    </tr>\n",
       "    <tr>\n",
       "      <th>1</th>\n",
       "      <td>579.520247</td>\n",
       "    </tr>\n",
       "    <tr>\n",
       "      <th>2</th>\n",
       "      <td>472.219630</td>\n",
       "    </tr>\n",
       "    <tr>\n",
       "      <th>3</th>\n",
       "      <td>448.937249</td>\n",
       "    </tr>\n",
       "    <tr>\n",
       "      <th>4</th>\n",
       "      <td>673.748994</td>\n",
       "    </tr>\n",
       "    <tr>\n",
       "      <th>...</th>\n",
       "      <td>...</td>\n",
       "    </tr>\n",
       "    <tr>\n",
       "      <th>94</th>\n",
       "      <td>498.802628</td>\n",
       "    </tr>\n",
       "    <tr>\n",
       "      <th>95</th>\n",
       "      <td>669.103245</td>\n",
       "    </tr>\n",
       "    <tr>\n",
       "      <th>96</th>\n",
       "      <td>441.708501</td>\n",
       "    </tr>\n",
       "    <tr>\n",
       "      <th>97</th>\n",
       "      <td>858.354250</td>\n",
       "    </tr>\n",
       "    <tr>\n",
       "      <th>98</th>\n",
       "      <td>601.448378</td>\n",
       "    </tr>\n",
       "  </tbody>\n",
       "</table>\n",
       "<p>99 rows × 1 columns</p>\n",
       "</div>"
      ],
      "text/plain": [
       "    demand_p=1\n",
       "0   351.385626\n",
       "1   579.520247\n",
       "2   472.219630\n",
       "3   448.937249\n",
       "4   673.748994\n",
       "..         ...\n",
       "94  498.802628\n",
       "95  669.103245\n",
       "96  441.708501\n",
       "97  858.354250\n",
       "98  601.448378\n",
       "\n",
       "[99 rows x 1 columns]"
      ]
     },
     "execution_count": 5,
     "metadata": {},
     "output_type": "execute_result"
    }
   ],
   "source": [
    "df2 = data.copy()\n",
    "df2['residual'] = lm.resid  # residuals from the linear regression model\n",
    "\n",
    "di = []\n",
    "p = 1  # fixed price\n",
    "\n",
    "for i in range(len(df2)):\n",
    "    # generate demand data using the linear model and its residuals\n",
    "    demand = lm.params[0] + lm.params[1]*p + df2['residual'][i]\n",
    "    di.append(demand)\n",
    "demand_data = pd.DataFrame(np.array(di), columns=['demand_p=1'])\n",
    "demand_data"
   ]
  },
  {
   "cell_type": "markdown",
   "id": "0c98130a",
   "metadata": {},
   "source": [
    "### 3. Solve the optimal quantity to produce when p=1. This is not quadratic at all, just an LP."
   ]
  },
  {
   "cell_type": "code",
   "execution_count": 6,
   "id": "ed8f6128",
   "metadata": {},
   "outputs": [],
   "source": [
    "# parameters\n",
    "p = 1\n",
    "c = 0.5\n",
    "g = 0.75\n",
    "t = 0.15\n",
    "n = len(demand_data)"
   ]
  },
  {
   "cell_type": "markdown",
   "id": "89c18fc9",
   "metadata": {},
   "source": [
    "If we introduce $h_i$ as in class, i.e., $h_i$ as the entire profit, then\n",
    "$$\\max_{h_i,q}\\frac{1}{n}\\sum_{i=1}^{n}h_i$$\n",
    "\n",
    "If demand < printed, $h_i\\leq D_i-qc-t(q-D_i)\\Longrightarrow (t+c)q+h_i\\leq (1+t)D_i$\\\n",
    "If demand > printed, $h_i\\leq D_i-qc-g(D_i-q)\\Longrightarrow (c-g)q+h_i\\leq (1-g)D_i$\\\n",
    "$h_i\\geq -inf$"
   ]
  },
  {
   "cell_type": "code",
   "execution_count": 7,
   "id": "c646bc69",
   "metadata": {},
   "outputs": [],
   "source": [
    "# decision variables: q, h1, h2, ...\n",
    "obj = np.zeros(n+1)\n",
    "obj[1:] = 1/n\n",
    "\n",
    "lb = np.zeros(n+1)\n",
    "lb[1:] = -np.inf  # all h_i can be less than 0\n",
    "\n",
    "rhs = np.zeros(2*n)\n",
    "A = np.zeros((2*n, n+1))\n",
    "for row in range(n):\n",
    "    Di = demand_data['demand_p=1'][row]\n",
    "    \n",
    "    rhs[row*2] = (1+t)*Di\n",
    "    rhs[row*2+1] = (1-g)*Di\n",
    "    \n",
    "    A[[row*2,row*2+1], 0] = t+c, c-g  # coefficient for q\n",
    "    A[[row*2,row*2+1], row+1] = 1     # coefficinet for h_i"
   ]
  },
  {
   "cell_type": "code",
   "execution_count": 8,
   "id": "f1d806f6",
   "metadata": {},
   "outputs": [
    {
     "name": "stdout",
     "output_type": "stream",
     "text": [
      "Set parameter Username\n",
      "Academic license - for non-commercial use only - expires 2023-08-17\n"
     ]
    }
   ],
   "source": [
    "spMod = gp.Model()\n",
    "spMod_x = spMod.addMVar(len(obj), lb=lb)\n",
    "spMod_con = spMod.addConstr(A @ spMod_x <= rhs)\n",
    "spMod.setObjective(obj @ spMod_x,sense=gp.GRB.MAXIMIZE)\n",
    "spMod.Params.OutputFlag = 0\n",
    "spMod.optimize()"
   ]
  },
  {
   "cell_type": "code",
   "execution_count": 9,
   "id": "d70ad058",
   "metadata": {},
   "outputs": [
    {
     "name": "stdout",
     "output_type": "stream",
     "text": [
      "Optimal quantity: 471.8653795908935\n"
     ]
    }
   ],
   "source": [
    "print('Optimal quantity:', spMod_x.x[0])"
   ]
  },
  {
   "cell_type": "code",
   "execution_count": 10,
   "id": "65320a25",
   "metadata": {},
   "outputs": [
    {
     "name": "stdout",
     "output_type": "stream",
     "text": [
      "Expected profit: 231.48366664714132\n"
     ]
    }
   ],
   "source": [
    "print('Expected profit:', spMod.objVal)"
   ]
  },
  {
   "cell_type": "markdown",
   "id": "c94c66c8",
   "metadata": {},
   "source": [
    "### 4. Now let price impact demand and solve the resulting QP. What are the optimal price and quantity to print?"
   ]
  },
  {
   "cell_type": "markdown",
   "id": "29cd0cd0",
   "metadata": {},
   "source": [
    "$$\\max_{h_i,q}\\frac{1}{n}\\sum_{i=1}^{n}\\beta_0p+\\beta_1p^2+\\epsilon_ip+h_i$$\n",
    "where $h_i = -(qc+g(D_i-q)^++t(q-D_i)^+)$\n",
    "\n",
    "when demand < printed, $h_i\\leq -(qc+t(q-D_i))$\n",
    "\n",
    "when demand > printed, $h_i\\leq -(qc+g(D_i-q))$\n",
    "\n",
    "then we have:\n",
    "\n",
    "$$h_i+(t+c)q-t\\beta_1p\\leq t\\beta_0+t\\epsilon_i$$\n",
    "$$h_i+(c-g)q+g\\beta_1p\\leq -g\\beta_0-g\\epsilon_i$$\n",
    "$$h_i\\leq 0$$\n",
    "\n",
    "Set the decision variables as $x=[p,q,h_1,...,h_n]$. \n",
    "\n",
    "$Q$ is an $j\\times j$ matrix ($j=n+2$) where the first entry is $\\beta_1$ and the rest entries are 0. \n",
    "\n",
    "linear term $c$ is a $j\\times 1$ matrix: $c=[\\beta_0+\\frac{\\sum\\epsilon_i}{n},0,\\frac{1}{n},\\frac{1}{n},...,\\frac{1}{n}]$"
   ]
  },
  {
   "cell_type": "code",
   "execution_count": 11,
   "id": "348e41ee",
   "metadata": {},
   "outputs": [],
   "source": [
    "# parameters\n",
    "# lm is the previous linear regression model on price and demand\n",
    "beta0, beta1 = lm.params   \n",
    "epsilon = lm.resid\n",
    "c = 0.5  # cost for each newspaper printed in regular time\n",
    "g = 0.75 # cost for each rushed newspaper, g>c\n",
    "t = 0.15 # disposal fee for each overprinted newspaper t>0\n",
    "n = len(data)"
   ]
  },
  {
   "cell_type": "code",
   "execution_count": 12,
   "id": "b05e1fa8",
   "metadata": {},
   "outputs": [],
   "source": [
    "# decision variables: p, q, h1, ..., hn\n",
    "Q = np.zeros((n+2, n+2))\n",
    "Q[0,0] = beta1  # quadratic term\n",
    "\n",
    "cvec = np.zeros(n+2)  # linear term\n",
    "cvec[0] = beta0 + epsilon.mean()\n",
    "cvec[2:] = 1/n\n",
    "\n",
    "lb = np.zeros(n+2)  \n",
    "ub = np.zeros(n+2)  # all h_i are less than 0\n",
    "lb[2:] = -np.inf  \n",
    "ub[:2] = np.inf     # p and q are non-negative"
   ]
  },
  {
   "cell_type": "code",
   "execution_count": 13,
   "id": "4b92397f",
   "metadata": {},
   "outputs": [],
   "source": [
    "A = np.zeros((2*n, 2+n))\n",
    "rhs = np.zeros(2*n)\n",
    "\n",
    "for row in range(n):\n",
    "    # for each row, index 0, 1, 'row'+2 => p, q, h_i\n",
    "    A[[row*2, row*2+1], 0] = [-t*beta1, g*beta1]  # p\n",
    "    A[[row*2, row*2+1], 1] = [t+c, c-g]  # q\n",
    "    A[[row*2, row*2+1], row+2] = [1, 1]  # h_i\n",
    "    \n",
    "    rhs[row*2] = t*beta0 + t*epsilon[row]\n",
    "    rhs[row*2+1] = -g*beta0 - g*epsilon[row]"
   ]
  },
  {
   "cell_type": "code",
   "execution_count": 14,
   "id": "293c6b85",
   "metadata": {},
   "outputs": [],
   "source": [
    "spMod = gp.Model()\n",
    "spMod_x = spMod.addMVar(n+2, lb=lb, ub=ub)\n",
    "spMod_con = spMod.addConstr(A @ spMod_x <= rhs)\n",
    "spMod.setMObjective(Q,cvec,0,sense=gp.GRB.MAXIMIZE)\n",
    "spMod.Params.OutputFlag = 0\n",
    "spMod.Params.NonConvex = 2  # prevent the error that Q is not PSD (negative diagonal entry)\n",
    "spMod.optimize()"
   ]
  },
  {
   "cell_type": "code",
   "execution_count": 15,
   "id": "aca3be3e",
   "metadata": {},
   "outputs": [
    {
     "name": "stdout",
     "output_type": "stream",
     "text": [
      "Optimal price: $0.954\n",
      "Quantity to print: 535.3\n",
      "Expected profit: $234.425\n"
     ]
    }
   ],
   "source": [
    "p_optim = float(spMod_x.x[0])\n",
    "q = float(spMod_x.x[1])\n",
    "profit = spMod.objVal\n",
    "print('Optimal price: ${:.3f}\\nQuantity to print: {:.1f}\\nExpected profit: ${:.3f}'.format(p_optim, q, profit))"
   ]
  },
  {
   "cell_type": "markdown",
   "id": "4df3f996",
   "metadata": {},
   "source": [
    "### 6. We are now interested to know how sensitive the optimal price and quantity are to our data set. Take a bootstrap sample of the original dataset. Go back and fit new beta’s to the new bootstrapped dataset and redo step 4. Find the optimal price and quantity."
   ]
  },
  {
   "cell_type": "code",
   "execution_count": 16,
   "id": "6ed1096d",
   "metadata": {},
   "outputs": [],
   "source": [
    "def regression(data):\n",
    "    '''\n",
    "    input: a dataframe that has at least the following columns: price and demand\n",
    "    output: a statsmodel object \n",
    "    '''\n",
    "    x = data.price\n",
    "    y = data.demand\n",
    "    x = sm.add_constant(x)\n",
    "    lm = sm.OLS(y,x).fit()\n",
    "    return lm"
   ]
  },
  {
   "cell_type": "code",
   "execution_count": 17,
   "id": "a3cdd0d2",
   "metadata": {},
   "outputs": [],
   "source": [
    "def optimization(model, n, c=0.5, g=0.75, t=0.15):\n",
    "    '''\n",
    "    input: \n",
    "        model -> statsmodel object from function \"regression\"\n",
    "        n -> data size\n",
    "        c, g, and t -> costs\n",
    "    output: \n",
    "        a list of optimal price, quantity, and expected profit\n",
    "    '''\n",
    "    beta0, beta1 = model.params\n",
    "    epsilon = model.resid\n",
    "    \n",
    "    # decision variables: p, q, h1, ..., hn\n",
    "    Q = np.zeros((n+2, n+2))  # quadratic term\n",
    "    Q[0,0] = beta1   \n",
    "\n",
    "    cvec = np.zeros(n+2)      # linear term\n",
    "    cvec[0] = beta0 + epsilon.mean()\n",
    "    cvec[2:] = 1/n\n",
    "\n",
    "    lb = np.zeros(n+2)\n",
    "    ub = np.zeros(n+2)  # all h_i are less than 0\n",
    "    lb[2:] = -np.inf\n",
    "    ub[:2] = np.inf     # p and q are non-negative\n",
    "    \n",
    "    A = np.zeros((2*n, 2+n))\n",
    "    rhs = np.zeros(2*n)\n",
    "\n",
    "    for row in range(n):\n",
    "        # for each row, index 0, 1, 'row'+2 => p, q, h_i\n",
    "        A[[row*2, row*2+1], 0] = [-t*beta1, g*beta1]\n",
    "        A[[row*2, row*2+1], 1] = [t+c, c-g]\n",
    "        A[[row*2, row*2+1], row+2] = [1, 1]\n",
    "\n",
    "        rhs[row*2] = t*beta0 + t*epsilon[row]\n",
    "        rhs[row*2+1] = -g*beta0 - g*epsilon[row]\n",
    "        \n",
    "    spMod = gp.Model()\n",
    "    spMod_x = spMod.addMVar(n+2, lb=lb, ub=ub)\n",
    "    spMod_con = spMod.addConstr(A @ spMod_x <= rhs)\n",
    "    spMod.setMObjective(Q,cvec,0,sense=gp.GRB.MAXIMIZE)\n",
    "    spMod.Params.OutputFlag = 0\n",
    "    spMod.Params.NonConvex = 2   # prevent the error that Q is not PSD (negative diagonal entry)\n",
    "    spMod.optimize()\n",
    "    \n",
    "    p_optim = float(spMod_x.x[0])\n",
    "    q = float(spMod_x.x[1])\n",
    "    profit = spMod.objVal\n",
    "    \n",
    "    return [p_optim, q, profit]"
   ]
  },
  {
   "cell_type": "code",
   "execution_count": 18,
   "id": "b9250355",
   "metadata": {},
   "outputs": [],
   "source": [
    "# create random indices to create a bootstrap sample\n",
    "idx = np.random.choice(data.index, size=len(data), replace=True)\n",
    "new_data = data.iloc[idx]\n",
    "new_data = new_data.reset_index(drop=True)"
   ]
  },
  {
   "cell_type": "code",
   "execution_count": 19,
   "id": "bbca05d7",
   "metadata": {},
   "outputs": [
    {
     "name": "stdout",
     "output_type": "stream",
     "text": [
      "                            OLS Regression Results                            \n",
      "==============================================================================\n",
      "Dep. Variable:                 demand   R-squared:                       0.727\n",
      "Model:                            OLS   Adj. R-squared:                  0.724\n",
      "Method:                 Least Squares   F-statistic:                     258.6\n",
      "Date:                Fri, 17 Feb 2023   Prob (F-statistic):           4.11e-29\n",
      "Time:                        22:14:02   Log-Likelihood:                -625.00\n",
      "No. Observations:                  99   AIC:                             1254.\n",
      "Df Residuals:                      97   BIC:                             1259.\n",
      "Df Model:                           1                                         \n",
      "Covariance Type:            nonrobust                                         \n",
      "==============================================================================\n",
      "                 coef    std err          t      P>|t|      [0.025      0.975]\n",
      "------------------------------------------------------------------------------\n",
      "const       1968.4993     90.183     21.828      0.000    1789.511    2147.487\n",
      "price      -1403.1975     87.263    -16.080      0.000   -1576.391   -1230.004\n",
      "==============================================================================\n",
      "Omnibus:                        0.386   Durbin-Watson:                   1.975\n",
      "Prob(Omnibus):                  0.825   Jarque-Bera (JB):                0.337\n",
      "Skew:                          -0.139   Prob(JB):                        0.845\n",
      "Kurtosis:                       2.931   Cond. No.                         13.2\n",
      "==============================================================================\n",
      "\n",
      "Notes:\n",
      "[1] Standard Errors assume that the covariance matrix of the errors is correctly specified.\n"
     ]
    }
   ],
   "source": [
    "# fit new betas by running the linear regression model again\n",
    "model = regression(new_data)\n",
    "print(model.summary())"
   ]
  },
  {
   "cell_type": "code",
   "execution_count": 20,
   "id": "1c86772c",
   "metadata": {
    "scrolled": true
   },
   "outputs": [
    {
     "name": "stdout",
     "output_type": "stream",
     "text": [
      "Optimal price: $0.951\n",
      "Quantity to print: 554.9\n",
      "Expected profit: $244.905\n"
     ]
    }
   ],
   "source": [
    "# optimization\n",
    "[p_optim, q, profit] = optimization(model, n=len(new_data))\n",
    "print('Optimal price: ${:.3f}\\nQuantity to print: {:.1f}\\nExpected profit: ${:.3f}'.format(p_optim, q, profit))"
   ]
  },
  {
   "cell_type": "markdown",
   "id": "514a7ab3",
   "metadata": {},
   "source": [
    "### 7. Repeat this process of getting new bootstrapped data, fitting new betas to the newly simulated data and finding the optimal price/quantity many times. Make histograms of the optimal price and quantity. Make a scatterplot with histograms on the x and y axis for this. Make a histogram of expectation of profits."
   ]
  },
  {
   "cell_type": "code",
   "execution_count": 21,
   "id": "2df6acfe",
   "metadata": {},
   "outputs": [],
   "source": [
    "nsim = 1000\n",
    "price = []\n",
    "quantity = []\n",
    "profits = []\n",
    "\n",
    "for i in range(nsim):\n",
    "    # bootstrapping\n",
    "    idx = np.random.choice(data.index, size=len(data), replace=True)\n",
    "    new_data = data.iloc[idx].reset_index(drop=True)\n",
    "    # build regression model to get new betas\n",
    "    model = regression(new_data)\n",
    "    # optimization\n",
    "    [p,q,profit] = optimization(model, n=len(new_data))\n",
    "\n",
    "    price.append(p)\n",
    "    quantity.append(q)\n",
    "    profits.append(profit)"
   ]
  },
  {
   "cell_type": "code",
   "execution_count": 22,
   "id": "6472dcd7",
   "metadata": {},
   "outputs": [],
   "source": [
    "plot_data = pd.DataFrame({'price': np.array(price), \\\n",
    "                          'quantity': np.array(quantity), \\\n",
    "                          'profit': np.array(profits)})"
   ]
  },
  {
   "cell_type": "code",
   "execution_count": 23,
   "id": "c9a9a211",
   "metadata": {},
   "outputs": [],
   "source": [
    "bins = 20\n",
    "def scatter_hist(x, y, ax, ax_histx, ax_histy):\n",
    "    '''\n",
    "    input: \n",
    "        x, y -> series of data to be plotted\n",
    "        ax -> axis for scatterplot\n",
    "        ax_histx, ax_histy -> axes for histograms\n",
    "    output: \n",
    "        scatter-histogram\n",
    "    '''\n",
    "    ax_histx.tick_params(axis=\"x\", labelbottom=False)\n",
    "    ax_histy.tick_params(axis=\"y\", labelleft=False)\n",
    "    ax.scatter(x, y)\n",
    "    ax.set(xlabel='Price($)',ylabel='Quantity')\n",
    "    ax_histx.hist(x, bins=bins)\n",
    "    ax_histy.hist(y, bins=bins, orientation='horizontal')"
   ]
  },
  {
   "cell_type": "code",
   "execution_count": 24,
   "id": "97281b5d",
   "metadata": {},
   "outputs": [
    {
     "data": {
      "image/png": "[encoded data removed]",
      "text/plain": [
       "<Figure size 720x720 with 3 Axes>"
      ]
     },
     "metadata": {
      "needs_background": "light"
     },
     "output_type": "display_data"
    }
   ],
   "source": [
    "# scatterplot of optimal price and quantity with histograms on both axes\n",
    "x = plot_data.price\n",
    "y = plot_data.quantity\n",
    "\n",
    "fig = plt.figure(figsize=(10, 10))\n",
    "gs = fig.add_gridspec(2, 2,  width_ratios=(4, 1), height_ratios=(1, 4),\n",
    "                      left=0.1, right=0.9, bottom=0.1, top=0.9,\n",
    "                      wspace=0.05, hspace=0.05)\n",
    "\n",
    "ax = fig.add_subplot(gs[1, 0])\n",
    "ax_histx = fig.add_subplot(gs[0, 0], sharex=ax)\n",
    "ax_histy = fig.add_subplot(gs[1, 1], sharey=ax)\n",
    "scatter_hist(x, y, ax, ax_histx, ax_histy)"
   ]
  },
  {
   "cell_type": "code",
   "execution_count": 25,
   "id": "7df9c187",
   "metadata": {},
   "outputs": [
    {
     "data": {
      "image/png": "[encoded data removed]",
      "text/plain": [
       "<Figure size 432x288 with 1 Axes>"
      ]
     },
     "metadata": {
      "needs_background": "light"
     },
     "output_type": "display_data"
    }
   ],
   "source": [
    "# histogram of expectation of profits\n",
    "plt.hist(plot_data.profit, bins=bins)\n",
    "plt.title('Expected Profits')\n",
    "plt.axvline(x=plot_data.profit.mean(), linestyle='--', color='r')\n",
    "plt.show()"
   ]
  },
  {
   "cell_type": "markdown",
   "id": "afb25a4a",
   "metadata": {},
   "source": [
    "### 8. You work for a publishing company. Your boss has been using the standard NV model to set printing decisions using the dataset given. Is your boss’ model as good as this one? Could you increase revenue by switching models for production/pricing decisions? Describe the advantages and disadvantages of both techniques. "
   ]
  },
  {
   "cell_type": "markdown",
   "id": "61591b19",
   "metadata": {},
   "source": [
    "standard NV model: $p$ is fixed (we assumed it to be 1) and other costs such as $t$ and $g$ are also included. "
   ]
  },
  {
   "cell_type": "code",
   "execution_count": 26,
   "id": "69d1a688",
   "metadata": {},
   "outputs": [],
   "source": [
    "# parameters\n",
    "p = 1  # fixed price\n",
    "c = 0.5\n",
    "g = 0.75\n",
    "t = 0.15\n",
    "n = len(data)\n",
    "nsim = 1000\n",
    "\n",
    "baseline_quantity = []\n",
    "baseline_profit = []\n",
    "\n",
    "for i in range(nsim):\n",
    "    # bootstrap sample\n",
    "    idx = np.random.choice(data.index, size=n, replace=True)\n",
    "    new_data = data.iloc[idx].reset_index(drop=True)\n",
    "    \n",
    "    # decision variables: q, h1, h2, ..., hn\n",
    "    obj = np.zeros(n+1)\n",
    "    obj[1:] = 1/n\n",
    "\n",
    "    lb = np.zeros(n+1)\n",
    "    lb[1:] = -np.inf  # h_i can be negative, but q is greater than 0\n",
    "\n",
    "    rhs = np.zeros(2*n)\n",
    "    A = np.zeros((2*n, n+1))\n",
    "    for row in range(n):\n",
    "        Di = new_data['demand'][row]\n",
    "\n",
    "        rhs[row*2] = (1+t)*Di\n",
    "        rhs[row*2+1] = (1-g)*Di\n",
    "\n",
    "        A[[row*2,row*2+1], 0] = t+c, c-g\n",
    "        A[[row*2,row*2+1], row+1] = 1\n",
    "        \n",
    "    spMod = gp.Model()\n",
    "    spMod_x = spMod.addMVar(len(obj), lb=lb)\n",
    "    spMod_con = spMod.addConstr(A @ spMod_x <= rhs)\n",
    "    spMod.setObjective(obj @ spMod_x,sense=gp.GRB.MAXIMIZE)\n",
    "    spMod.Params.OutputFlag = 0\n",
    "    spMod.optimize()\n",
    "    \n",
    "    q = spMod_x.x[0]\n",
    "    profit = spMod.objVal\n",
    "    baseline_quantity.append(q)\n",
    "    baseline_profit.append(profit)"
   ]
  },
  {
   "cell_type": "code",
   "execution_count": 27,
   "id": "585a19da",
   "metadata": {},
   "outputs": [
    {
     "data": {
      "image/png": "[encoded data removed]",
      "text/plain": [
       "<Figure size 432x288 with 1 Axes>"
      ]
     },
     "metadata": {
      "needs_background": "light"
     },
     "output_type": "display_data"
    }
   ],
   "source": [
    "plt.hist(baseline_profit)\n",
    "plt.title('Expected Profits, fixed p = 1')\n",
    "plt.axvline(x=np.array(baseline_profit).mean(), linestyle='--', color='r')\n",
    "plt.show()"
   ]
  },
  {
   "cell_type": "code",
   "execution_count": 28,
   "id": "54b6a8b9",
   "metadata": {},
   "outputs": [
    {
     "data": {
      "image/png": "[encoded data removed]",
      "text/plain": [
       "<Figure size 432x288 with 1 Axes>"
      ]
     },
     "metadata": {
      "needs_background": "light"
     },
     "output_type": "display_data"
    }
   ],
   "source": [
    "plt.hist(baseline_quantity)\n",
    "plt.title('Optimal Quantity, fixed p = 1')\n",
    "plt.axvline(x=np.array(baseline_quantity).mean(), linestyle='--', color='r')\n",
    "plt.show()"
   ]
  },
  {
   "cell_type": "code",
   "execution_count": null,
   "id": "d829d760",
   "metadata": {},
   "outputs": [],
   "source": []
  }
 ],
 "metadata": {
  "kernelspec": {
   "display_name": "Python 3 (ipykernel)",
   "language": "python",
   "name": "python3"
  },
  "language_info": {
   "codemirror_mode": {
    "name": "ipython",
    "version": 3
   },
   "file_extension": ".py",
   "mimetype": "text/x-python",
   "name": "python",
   "nbconvert_exporter": "python",
   "pygments_lexer": "ipython3",
   "version": "3.9.12"
  }
 },
 "nbformat": 4,
 "nbformat_minor": 5
}
