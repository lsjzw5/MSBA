{
 "cells": [
  {
   "cell_type": "code",
   "execution_count": null,
   "id": "d1145ec6",
   "metadata": {
    "id": "d1145ec6"
   },
   "outputs": [],
   "source": [
    "import pandas as pd\n",
    "import numpy as np\n",
    "import matplotlib.pyplot as plt"
   ]
  },
  {
   "cell_type": "markdown",
   "id": "6f75eac8",
   "metadata": {},
   "source": [
    "# 1.1: Find predictors of influence\n",
    "\n",
    "[data source](https://www.kaggle.com/competitions/predict-who-is-more-influential-in-a-social-network/data?select=train.csv)\n",
    "\n",
    "Use the training dataset only to build and validate your model. Each observation in \n",
    "the dataset describes two individuals, A and B. There are 11 variables for each \n",
    "person based on Twitter activity, e.g., number of followers, retweets, network \n",
    "characteristics, etc. Each observation shows whether A > B (Choice = “1”) or B > A \n",
    "(Choice = “0”). \n",
    "\n",
    "Using the training data set (train.csv), create an analytic model for pairs of \n",
    "individuals to classify who is more influential\n",
    "+ Check if you should use all variables\n",
    "+ A transformation of the variables (like A/B or A-B) may be better than \n",
    "using A and B variables separately, and may also be easier to \n",
    "interpret. \n",
    "+ Normalize all data so that all values are between 0 and 1\n",
    "+ Report the confusion matrix of your “best” model (provide screenshot)\n",
    "\n",
    "From your model, which factors are best predictors of influence? You can use a \n",
    "logistic regression for this part and provide screenshots. How can a business use \n",
    "your model/results? "
   ]
  },
  {
   "cell_type": "code",
   "execution_count": 1,
   "id": "LNaU5_vFR-rI",
   "metadata": {
    "colab": {
     "base_uri": "https://localhost:8080/",
     "height": 77
    },
    "id": "LNaU5_vFR-rI",
    "outputId": "6b59213d-03f6-473f-db6e-989c75fe34c4"
   },
   "outputs": [],
   "source": [
    "# from google.colab import files\n",
    "# uploaded = files.upload()"
   ]
  },
  {
   "cell_type": "code",
   "execution_count": null,
   "id": "048a3b97",
   "metadata": {
    "id": "048a3b97"
   },
   "outputs": [],
   "source": [
    "train = pd.read_csv('train.csv')"
   ]
  },
  {
   "cell_type": "code",
   "execution_count": null,
   "id": "fa592986",
   "metadata": {
    "colab": {
     "base_uri": "https://localhost:8080/",
     "height": 835
    },
    "id": "fa592986",
    "outputId": "3fbcb1c6-fdc3-4061-ffa3-9631d49d030e",
    "scrolled": false
   },
   "outputs": [
    {
     "name": "stdout",
     "output_type": "stream",
     "text": [
      "<class 'pandas.core.frame.DataFrame'>\n",
      "RangeIndex: 5500 entries, 0 to 5499\n",
      "Data columns (total 23 columns):\n",
      " #   Column               Non-Null Count  Dtype  \n",
      "---  ------               --------------  -----  \n",
      " 0   Choice               5500 non-null   int64  \n",
      " 1   A_follower_count     5500 non-null   int64  \n",
      " 2   A_following_count    5500 non-null   int64  \n",
      " 3   A_listed_count       5500 non-null   int64  \n",
      " 4   A_mentions_received  5500 non-null   float64\n",
      " 5   A_retweets_received  5500 non-null   float64\n",
      " 6   A_mentions_sent      5500 non-null   float64\n",
      " 7   A_retweets_sent      5500 non-null   float64\n",
      " 8   A_posts              5500 non-null   float64\n",
      " 9   A_network_feature_1  5500 non-null   int64  \n",
      " 10  A_network_feature_2  5500 non-null   float64\n",
      " 11  A_network_feature_3  5500 non-null   float64\n",
      " 12  B_follower_count     5500 non-null   int64  \n",
      " 13  B_following_count    5500 non-null   int64  \n",
      " 14  B_listed_count       5500 non-null   int64  \n",
      " 15  B_mentions_received  5500 non-null   float64\n",
      " 16  B_retweets_received  5500 non-null   float64\n",
      " 17  B_mentions_sent      5500 non-null   float64\n",
      " 18  B_retweets_sent      5500 non-null   float64\n",
      " 19  B_posts              5500 non-null   float64\n",
      " 20  B_network_feature_1  5500 non-null   int64  \n",
      " 21  B_network_feature_2  5500 non-null   float64\n",
      " 22  B_network_feature_3  5500 non-null   float64\n",
      "dtypes: float64(14), int64(9)\n",
      "memory usage: 988.4 KB\n"
     ]
    },
    {
     "data": {
      "text/html": [
       "\n",
       "  <div id=\"df-22355969-1bd2-4e3b-af39-dd6527e8bfff\">\n",
       "    <div class=\"colab-df-container\">\n",
       "      <div>\n",
       "<style scoped>\n",
       "    .dataframe tbody tr th:only-of-type {\n",
       "        vertical-align: middle;\n",
       "    }\n",
       "\n",
       "    .dataframe tbody tr th {\n",
       "        vertical-align: top;\n",
       "    }\n",
       "\n",
       "    .dataframe thead th {\n",
       "        text-align: right;\n",
       "    }\n",
       "</style>\n",
       "<table border=\"1\" class=\"dataframe\">\n",
       "  <thead>\n",
       "    <tr style=\"text-align: right;\">\n",
       "      <th></th>\n",
       "      <th>Choice</th>\n",
       "      <th>A_follower_count</th>\n",
       "      <th>A_following_count</th>\n",
       "      <th>A_listed_count</th>\n",
       "      <th>A_mentions_received</th>\n",
       "      <th>A_retweets_received</th>\n",
       "      <th>A_mentions_sent</th>\n",
       "      <th>A_retweets_sent</th>\n",
       "      <th>A_posts</th>\n",
       "      <th>A_network_feature_1</th>\n",
       "      <th>...</th>\n",
       "      <th>B_following_count</th>\n",
       "      <th>B_listed_count</th>\n",
       "      <th>B_mentions_received</th>\n",
       "      <th>B_retweets_received</th>\n",
       "      <th>B_mentions_sent</th>\n",
       "      <th>B_retweets_sent</th>\n",
       "      <th>B_posts</th>\n",
       "      <th>B_network_feature_1</th>\n",
       "      <th>B_network_feature_2</th>\n",
       "      <th>B_network_feature_3</th>\n",
       "    </tr>\n",
       "  </thead>\n",
       "  <tbody>\n",
       "    <tr>\n",
       "      <th>0</th>\n",
       "      <td>0</td>\n",
       "      <td>228</td>\n",
       "      <td>302</td>\n",
       "      <td>3</td>\n",
       "      <td>0.583979</td>\n",
       "      <td>0.100503</td>\n",
       "      <td>0.100503</td>\n",
       "      <td>0.100503</td>\n",
       "      <td>0.362150</td>\n",
       "      <td>2</td>\n",
       "      <td>...</td>\n",
       "      <td>29808</td>\n",
       "      <td>1689</td>\n",
       "      <td>15.430498</td>\n",
       "      <td>3.984029</td>\n",
       "      <td>8.204331</td>\n",
       "      <td>0.332423</td>\n",
       "      <td>6.988815</td>\n",
       "      <td>66</td>\n",
       "      <td>75.530303</td>\n",
       "      <td>1916.893939</td>\n",
       "    </tr>\n",
       "    <tr>\n",
       "      <th>1</th>\n",
       "      <td>0</td>\n",
       "      <td>21591</td>\n",
       "      <td>1179</td>\n",
       "      <td>228</td>\n",
       "      <td>90.456506</td>\n",
       "      <td>25.798292</td>\n",
       "      <td>5.709329</td>\n",
       "      <td>1.111159</td>\n",
       "      <td>5.176620</td>\n",
       "      <td>369</td>\n",
       "      <td>...</td>\n",
       "      <td>848</td>\n",
       "      <td>1610</td>\n",
       "      <td>40.495021</td>\n",
       "      <td>8.943607</td>\n",
       "      <td>3.227677</td>\n",
       "      <td>0.564343</td>\n",
       "      <td>1.070321</td>\n",
       "      <td>163</td>\n",
       "      <td>132.030675</td>\n",
       "      <td>2931.515337</td>\n",
       "    </tr>\n",
       "    <tr>\n",
       "      <th>2</th>\n",
       "      <td>0</td>\n",
       "      <td>7310</td>\n",
       "      <td>1215</td>\n",
       "      <td>101</td>\n",
       "      <td>25.503644</td>\n",
       "      <td>9.556347</td>\n",
       "      <td>5.361519</td>\n",
       "      <td>0.591206</td>\n",
       "      <td>3.589718</td>\n",
       "      <td>95</td>\n",
       "      <td>...</td>\n",
       "      <td>482</td>\n",
       "      <td>206</td>\n",
       "      <td>0.734696</td>\n",
       "      <td>0.354379</td>\n",
       "      <td>0.603202</td>\n",
       "      <td>0.100503</td>\n",
       "      <td>0.603202</td>\n",
       "      <td>3</td>\n",
       "      <td>10.333333</td>\n",
       "      <td>277.333333</td>\n",
       "    </tr>\n",
       "    <tr>\n",
       "      <th>3</th>\n",
       "      <td>0</td>\n",
       "      <td>20</td>\n",
       "      <td>7</td>\n",
       "      <td>2</td>\n",
       "      <td>7.690824</td>\n",
       "      <td>0.277306</td>\n",
       "      <td>1.331508</td>\n",
       "      <td>0.100503</td>\n",
       "      <td>2.830627</td>\n",
       "      <td>6</td>\n",
       "      <td>...</td>\n",
       "      <td>17637</td>\n",
       "      <td>278</td>\n",
       "      <td>572.874856</td>\n",
       "      <td>390.293681</td>\n",
       "      <td>27.552040</td>\n",
       "      <td>7.167557</td>\n",
       "      <td>32.101906</td>\n",
       "      <td>1762</td>\n",
       "      <td>23.469296</td>\n",
       "      <td>1395.845634</td>\n",
       "    </tr>\n",
       "    <tr>\n",
       "      <th>4</th>\n",
       "      <td>1</td>\n",
       "      <td>45589</td>\n",
       "      <td>862</td>\n",
       "      <td>2641</td>\n",
       "      <td>148.854279</td>\n",
       "      <td>36.998884</td>\n",
       "      <td>27.881768</td>\n",
       "      <td>3.333492</td>\n",
       "      <td>23.861282</td>\n",
       "      <td>551</td>\n",
       "      <td>...</td>\n",
       "      <td>1711</td>\n",
       "      <td>181</td>\n",
       "      <td>21.601866</td>\n",
       "      <td>3.581661</td>\n",
       "      <td>6.764657</td>\n",
       "      <td>1.119727</td>\n",
       "      <td>4.563246</td>\n",
       "      <td>85</td>\n",
       "      <td>48.500000</td>\n",
       "      <td>1993.627907</td>\n",
       "    </tr>\n",
       "  </tbody>\n",
       "</table>\n",
       "<p>5 rows × 23 columns</p>\n",
       "</div>\n",
       "      <button class=\"colab-df-convert\" onclick=\"convertToInteractive('df-22355969-1bd2-4e3b-af39-dd6527e8bfff')\"\n",
       "              title=\"Convert this dataframe to an interactive table.\"\n",
       "              style=\"display:none;\">\n",
       "        \n",
       "  <svg xmlns=\"http://www.w3.org/2000/svg\" height=\"24px\"viewBox=\"0 0 24 24\"\n",
       "       width=\"24px\">\n",
       "    <path d=\"M0 0h24v24H0V0z\" fill=\"none\"/>\n",
       "    <path d=\"M18.56 5.44l.94 2.06.94-2.06 2.06-.94-2.06-.94-.94-2.06-.94 2.06-2.06.94zm-11 1L8.5 8.5l.94-2.06 2.06-.94-2.06-.94L8.5 2.5l-.94 2.06-2.06.94zm10 10l.94 2.06.94-2.06 2.06-.94-2.06-.94-.94-2.06-.94 2.06-2.06.94z\"/><path d=\"M17.41 7.96l-1.37-1.37c-.4-.4-.92-.59-1.43-.59-.52 0-1.04.2-1.43.59L10.3 9.45l-7.72 7.72c-.78.78-.78 2.05 0 2.83L4 21.41c.39.39.9.59 1.41.59.51 0 1.02-.2 1.41-.59l7.78-7.78 2.81-2.81c.8-.78.8-2.07 0-2.86zM5.41 20L4 18.59l7.72-7.72 1.47 1.35L5.41 20z\"/>\n",
       "  </svg>\n",
       "      </button>\n",
       "      \n",
       "  <style>\n",
       "    .colab-df-container {\n",
       "      display:flex;\n",
       "      flex-wrap:wrap;\n",
       "      gap: 12px;\n",
       "    }\n",
       "\n",
       "    .colab-df-convert {\n",
       "      background-color: #E8F0FE;\n",
       "      border: none;\n",
       "      border-radius: 50%;\n",
       "      cursor: pointer;\n",
       "      display: none;\n",
       "      fill: #1967D2;\n",
       "      height: 32px;\n",
       "      padding: 0 0 0 0;\n",
       "      width: 32px;\n",
       "    }\n",
       "\n",
       "    .colab-df-convert:hover {\n",
       "      background-color: #E2EBFA;\n",
       "      box-shadow: 0px 1px 2px rgba(60, 64, 67, 0.3), 0px 1px 3px 1px rgba(60, 64, 67, 0.15);\n",
       "      fill: #174EA6;\n",
       "    }\n",
       "\n",
       "    [theme=dark] .colab-df-convert {\n",
       "      background-color: #3B4455;\n",
       "      fill: #D2E3FC;\n",
       "    }\n",
       "\n",
       "    [theme=dark] .colab-df-convert:hover {\n",
       "      background-color: #434B5C;\n",
       "      box-shadow: 0px 1px 3px 1px rgba(0, 0, 0, 0.15);\n",
       "      filter: drop-shadow(0px 1px 2px rgba(0, 0, 0, 0.3));\n",
       "      fill: #FFFFFF;\n",
       "    }\n",
       "  </style>\n",
       "\n",
       "      <script>\n",
       "        const buttonEl =\n",
       "          document.querySelector('#df-22355969-1bd2-4e3b-af39-dd6527e8bfff button.colab-df-convert');\n",
       "        buttonEl.style.display =\n",
       "          google.colab.kernel.accessAllowed ? 'block' : 'none';\n",
       "\n",
       "        async function convertToInteractive(key) {\n",
       "          const element = document.querySelector('#df-22355969-1bd2-4e3b-af39-dd6527e8bfff');\n",
       "          const dataTable =\n",
       "            await google.colab.kernel.invokeFunction('convertToInteractive',\n",
       "                                                     [key], {});\n",
       "          if (!dataTable) return;\n",
       "\n",
       "          const docLinkHtml = 'Like what you see? Visit the ' +\n",
       "            '<a target=\"_blank\" href=https://colab.research.google.com/notebooks/data_table.ipynb>data table notebook</a>'\n",
       "            + ' to learn more about interactive tables.';\n",
       "          element.innerHTML = '';\n",
       "          dataTable['output_type'] = 'display_data';\n",
       "          await google.colab.output.renderOutput(dataTable, element);\n",
       "          const docLink = document.createElement('div');\n",
       "          docLink.innerHTML = docLinkHtml;\n",
       "          element.appendChild(docLink);\n",
       "        }\n",
       "      </script>\n",
       "    </div>\n",
       "  </div>\n",
       "  "
      ],
      "text/plain": [
       "   Choice  A_follower_count  A_following_count  A_listed_count  \\\n",
       "0       0               228                302               3   \n",
       "1       0             21591               1179             228   \n",
       "2       0              7310               1215             101   \n",
       "3       0                20                  7               2   \n",
       "4       1             45589                862            2641   \n",
       "\n",
       "   A_mentions_received  A_retweets_received  A_mentions_sent  A_retweets_sent  \\\n",
       "0             0.583979             0.100503         0.100503         0.100503   \n",
       "1            90.456506            25.798292         5.709329         1.111159   \n",
       "2            25.503644             9.556347         5.361519         0.591206   \n",
       "3             7.690824             0.277306         1.331508         0.100503   \n",
       "4           148.854279            36.998884        27.881768         3.333492   \n",
       "\n",
       "     A_posts  A_network_feature_1  ...  B_following_count  B_listed_count  \\\n",
       "0   0.362150                    2  ...              29808            1689   \n",
       "1   5.176620                  369  ...                848            1610   \n",
       "2   3.589718                   95  ...                482             206   \n",
       "3   2.830627                    6  ...              17637             278   \n",
       "4  23.861282                  551  ...               1711             181   \n",
       "\n",
       "   B_mentions_received  B_retweets_received  B_mentions_sent  B_retweets_sent  \\\n",
       "0            15.430498             3.984029         8.204331         0.332423   \n",
       "1            40.495021             8.943607         3.227677         0.564343   \n",
       "2             0.734696             0.354379         0.603202         0.100503   \n",
       "3           572.874856           390.293681        27.552040         7.167557   \n",
       "4            21.601866             3.581661         6.764657         1.119727   \n",
       "\n",
       "     B_posts  B_network_feature_1  B_network_feature_2  B_network_feature_3  \n",
       "0   6.988815                   66            75.530303          1916.893939  \n",
       "1   1.070321                  163           132.030675          2931.515337  \n",
       "2   0.603202                    3            10.333333           277.333333  \n",
       "3  32.101906                 1762            23.469296          1395.845634  \n",
       "4   4.563246                   85            48.500000          1993.627907  \n",
       "\n",
       "[5 rows x 23 columns]"
      ]
     },
     "execution_count": 4,
     "metadata": {},
     "output_type": "execute_result"
    }
   ],
   "source": [
    "train.info()\n",
    "train.head()"
   ]
  },
  {
   "cell_type": "code",
   "execution_count": null,
   "id": "bcmoG2RIZ334",
   "metadata": {
    "id": "bcmoG2RIZ334"
   },
   "outputs": [],
   "source": [
    "df_train = train.copy()\n",
    "\n",
    "A_cols = [col for col in df_train.columns if col[0] == 'A']\n",
    "B_cols = [col for col in df_train.columns if col[0] == 'B']\n",
    "\n",
    "# transformation of variables as A-B (diff_) and A/B (ratio_)\n",
    "for i in range(len(A_cols)):\n",
    "    A_col = A_cols[i]\n",
    "    B_col = B_cols[B_cols.index('B'+A_col[1:])]\n",
    "    new_col_diff = A_col[2:]+'_diff'\n",
    "    new_col_ratio = A_col[2:]+'_ratio'\n",
    "    \n",
    "    df_train[new_col_diff] = df_train[A_col] - df_train[B_col]\n",
    "    df_train[new_col_ratio] = df_train[A_col] / df_train[B_col]\n",
    "\n",
    "# drop the original A, B columns\n",
    "df_train = df_train.drop(columns=A_cols + B_cols)\n",
    "\n",
    "# feature selection based on correlation\n",
    "threshold = 0.6\n",
    "corr_matrix = df_train.drop(columns='Choice').corr().abs()\n",
    "\n",
    "upper = corr_matrix.where(np.triu(np.ones(corr_matrix.shape), k=1).astype(bool))\n",
    "to_drop = [column for column in upper.columns if any(upper[column] >= threshold)]\n",
    "\n",
    "df_train = df_train.drop(columns=to_drop)"
   ]
  },
  {
   "cell_type": "code",
   "execution_count": null,
   "id": "c126e8c5",
   "metadata": {
    "colab": {
     "base_uri": "https://localhost:8080/"
    },
    "id": "c126e8c5",
    "outputId": "283b42f3-bcc3-487c-84d9-840711eb9bff"
   },
   "outputs": [
    {
     "name": "stdout",
     "output_type": "stream",
     "text": [
      "DROPPED COLUMNS:\n",
      " ['listed_count_diff', 'listed_count_ratio', 'mentions_received_diff', 'network_feature_1_diff', 'network_feature_1_ratio', 'retweets_received_diff', 'retweets_received_ratio', 'retweets_sent_ratio']\n",
      "\n",
      "KEPT COLUMNS:\n",
      " ['Choice', 'follower_count_diff', 'follower_count_ratio', 'following_count_diff', 'following_count_ratio', 'mentions_received_ratio', 'mentions_sent_diff', 'mentions_sent_ratio', 'network_feature_2_diff', 'network_feature_2_ratio', 'network_feature_3_diff', 'network_feature_3_ratio', 'posts_diff', 'posts_ratio', 'retweets_sent_diff']\n"
     ]
    }
   ],
   "source": [
    "# dropped and kept columns with a corr_matrix value larger than the threshold\n",
    "print(\"DROPPED COLUMNS:\\n\",sorted(to_drop))\n",
    "print()\n",
    "print(\"KEPT COLUMNS:\\n\",sorted(df_train.columns.to_list()))"
   ]
  },
  {
   "cell_type": "code",
   "execution_count": null,
   "id": "d73f9ae2",
   "metadata": {
    "colab": {
     "base_uri": "https://localhost:8080/",
     "height": 270
    },
    "id": "d73f9ae2",
    "outputId": "a9669ccc-eac3-4fac-f6b5-556caae01088"
   },
   "outputs": [
    {
     "data": {
      "text/html": [
       "\n",
       "  <div id=\"df-623b70a2-b4c5-43f7-825e-bf52231ce9f8\">\n",
       "    <div class=\"colab-df-container\">\n",
       "      <div>\n",
       "<style scoped>\n",
       "    .dataframe tbody tr th:only-of-type {\n",
       "        vertical-align: middle;\n",
       "    }\n",
       "\n",
       "    .dataframe tbody tr th {\n",
       "        vertical-align: top;\n",
       "    }\n",
       "\n",
       "    .dataframe thead th {\n",
       "        text-align: right;\n",
       "    }\n",
       "</style>\n",
       "<table border=\"1\" class=\"dataframe\">\n",
       "  <thead>\n",
       "    <tr style=\"text-align: right;\">\n",
       "      <th></th>\n",
       "      <th>Choice</th>\n",
       "      <th>follower_count_diff</th>\n",
       "      <th>follower_count_ratio</th>\n",
       "      <th>following_count_diff</th>\n",
       "      <th>following_count_ratio</th>\n",
       "      <th>mentions_received_ratio</th>\n",
       "      <th>mentions_sent_diff</th>\n",
       "      <th>mentions_sent_ratio</th>\n",
       "      <th>retweets_sent_diff</th>\n",
       "      <th>posts_diff</th>\n",
       "      <th>posts_ratio</th>\n",
       "      <th>network_feature_2_diff</th>\n",
       "      <th>network_feature_2_ratio</th>\n",
       "      <th>network_feature_3_diff</th>\n",
       "      <th>network_feature_3_ratio</th>\n",
       "    </tr>\n",
       "  </thead>\n",
       "  <tbody>\n",
       "    <tr>\n",
       "      <th>0</th>\n",
       "      <td>0</td>\n",
       "      <td>-34235</td>\n",
       "      <td>0.006616</td>\n",
       "      <td>-29506</td>\n",
       "      <td>0.010132</td>\n",
       "      <td>0.037846</td>\n",
       "      <td>-8.103828</td>\n",
       "      <td>0.012250</td>\n",
       "      <td>-0.231920</td>\n",
       "      <td>-6.626665</td>\n",
       "      <td>0.051819</td>\n",
       "      <td>90.969697</td>\n",
       "      <td>2.204413</td>\n",
       "      <td>9438.106061</td>\n",
       "      <td>5.923645</td>\n",
       "    </tr>\n",
       "    <tr>\n",
       "      <th>1</th>\n",
       "      <td>0</td>\n",
       "      <td>-17671</td>\n",
       "      <td>0.549921</td>\n",
       "      <td>331</td>\n",
       "      <td>1.390330</td>\n",
       "      <td>2.233769</td>\n",
       "      <td>2.481652</td>\n",
       "      <td>1.768866</td>\n",
       "      <td>0.546816</td>\n",
       "      <td>4.106299</td>\n",
       "      <td>4.836513</td>\n",
       "      <td>-113.587704</td>\n",
       "      <td>0.139687</td>\n",
       "      <td>-1601.149290</td>\n",
       "      <td>0.453815</td>\n",
       "    </tr>\n",
       "    <tr>\n",
       "      <th>2</th>\n",
       "      <td>0</td>\n",
       "      <td>3688</td>\n",
       "      <td>2.018222</td>\n",
       "      <td>733</td>\n",
       "      <td>2.520747</td>\n",
       "      <td>34.713213</td>\n",
       "      <td>4.758317</td>\n",
       "      <td>8.888426</td>\n",
       "      <td>0.490702</td>\n",
       "      <td>2.986516</td>\n",
       "      <td>5.951102</td>\n",
       "      <td>58.594502</td>\n",
       "      <td>6.670436</td>\n",
       "      <td>5722.563574</td>\n",
       "      <td>21.634244</td>\n",
       "    </tr>\n",
       "    <tr>\n",
       "      <th>3</th>\n",
       "      <td>0</td>\n",
       "      <td>-19542</td>\n",
       "      <td>0.001022</td>\n",
       "      <td>-17630</td>\n",
       "      <td>0.000397</td>\n",
       "      <td>0.013425</td>\n",
       "      <td>-26.220532</td>\n",
       "      <td>0.048327</td>\n",
       "      <td>-7.067053</td>\n",
       "      <td>-29.271279</td>\n",
       "      <td>0.088176</td>\n",
       "      <td>-21.469296</td>\n",
       "      <td>0.085218</td>\n",
       "      <td>-1299.678967</td>\n",
       "      <td>0.068895</td>\n",
       "    </tr>\n",
       "    <tr>\n",
       "      <th>4</th>\n",
       "      <td>1</td>\n",
       "      <td>38035</td>\n",
       "      <td>6.035081</td>\n",
       "      <td>-849</td>\n",
       "      <td>0.503799</td>\n",
       "      <td>6.890807</td>\n",
       "      <td>21.117111</td>\n",
       "      <td>4.121682</td>\n",
       "      <td>2.213765</td>\n",
       "      <td>19.298035</td>\n",
       "      <td>5.229015</td>\n",
       "      <td>78.904293</td>\n",
       "      <td>2.626893</td>\n",
       "      <td>840.220036</td>\n",
       "      <td>1.421453</td>\n",
       "    </tr>\n",
       "  </tbody>\n",
       "</table>\n",
       "</div>\n",
       "      <button class=\"colab-df-convert\" onclick=\"convertToInteractive('df-623b70a2-b4c5-43f7-825e-bf52231ce9f8')\"\n",
       "              title=\"Convert this dataframe to an interactive table.\"\n",
       "              style=\"display:none;\">\n",
       "        \n",
       "  <svg xmlns=\"http://www.w3.org/2000/svg\" height=\"24px\"viewBox=\"0 0 24 24\"\n",
       "       width=\"24px\">\n",
       "    <path d=\"M0 0h24v24H0V0z\" fill=\"none\"/>\n",
       "    <path d=\"M18.56 5.44l.94 2.06.94-2.06 2.06-.94-2.06-.94-.94-2.06-.94 2.06-2.06.94zm-11 1L8.5 8.5l.94-2.06 2.06-.94-2.06-.94L8.5 2.5l-.94 2.06-2.06.94zm10 10l.94 2.06.94-2.06 2.06-.94-2.06-.94-.94-2.06-.94 2.06-2.06.94z\"/><path d=\"M17.41 7.96l-1.37-1.37c-.4-.4-.92-.59-1.43-.59-.52 0-1.04.2-1.43.59L10.3 9.45l-7.72 7.72c-.78.78-.78 2.05 0 2.83L4 21.41c.39.39.9.59 1.41.59.51 0 1.02-.2 1.41-.59l7.78-7.78 2.81-2.81c.8-.78.8-2.07 0-2.86zM5.41 20L4 18.59l7.72-7.72 1.47 1.35L5.41 20z\"/>\n",
       "  </svg>\n",
       "      </button>\n",
       "      \n",
       "  <style>\n",
       "    .colab-df-container {\n",
       "      display:flex;\n",
       "      flex-wrap:wrap;\n",
       "      gap: 12px;\n",
       "    }\n",
       "\n",
       "    .colab-df-convert {\n",
       "      background-color: #E8F0FE;\n",
       "      border: none;\n",
       "      border-radius: 50%;\n",
       "      cursor: pointer;\n",
       "      display: none;\n",
       "      fill: #1967D2;\n",
       "      height: 32px;\n",
       "      padding: 0 0 0 0;\n",
       "      width: 32px;\n",
       "    }\n",
       "\n",
       "    .colab-df-convert:hover {\n",
       "      background-color: #E2EBFA;\n",
       "      box-shadow: 0px 1px 2px rgba(60, 64, 67, 0.3), 0px 1px 3px 1px rgba(60, 64, 67, 0.15);\n",
       "      fill: #174EA6;\n",
       "    }\n",
       "\n",
       "    [theme=dark] .colab-df-convert {\n",
       "      background-color: #3B4455;\n",
       "      fill: #D2E3FC;\n",
       "    }\n",
       "\n",
       "    [theme=dark] .colab-df-convert:hover {\n",
       "      background-color: #434B5C;\n",
       "      box-shadow: 0px 1px 3px 1px rgba(0, 0, 0, 0.15);\n",
       "      filter: drop-shadow(0px 1px 2px rgba(0, 0, 0, 0.3));\n",
       "      fill: #FFFFFF;\n",
       "    }\n",
       "  </style>\n",
       "\n",
       "      <script>\n",
       "        const buttonEl =\n",
       "          document.querySelector('#df-623b70a2-b4c5-43f7-825e-bf52231ce9f8 button.colab-df-convert');\n",
       "        buttonEl.style.display =\n",
       "          google.colab.kernel.accessAllowed ? 'block' : 'none';\n",
       "\n",
       "        async function convertToInteractive(key) {\n",
       "          const element = document.querySelector('#df-623b70a2-b4c5-43f7-825e-bf52231ce9f8');\n",
       "          const dataTable =\n",
       "            await google.colab.kernel.invokeFunction('convertToInteractive',\n",
       "                                                     [key], {});\n",
       "          if (!dataTable) return;\n",
       "\n",
       "          const docLinkHtml = 'Like what you see? Visit the ' +\n",
       "            '<a target=\"_blank\" href=https://colab.research.google.com/notebooks/data_table.ipynb>data table notebook</a>'\n",
       "            + ' to learn more about interactive tables.';\n",
       "          element.innerHTML = '';\n",
       "          dataTable['output_type'] = 'display_data';\n",
       "          await google.colab.output.renderOutput(dataTable, element);\n",
       "          const docLink = document.createElement('div');\n",
       "          docLink.innerHTML = docLinkHtml;\n",
       "          element.appendChild(docLink);\n",
       "        }\n",
       "      </script>\n",
       "    </div>\n",
       "  </div>\n",
       "  "
      ],
      "text/plain": [
       "   Choice  follower_count_diff  follower_count_ratio  following_count_diff  \\\n",
       "0       0               -34235              0.006616                -29506   \n",
       "1       0               -17671              0.549921                   331   \n",
       "2       0                 3688              2.018222                   733   \n",
       "3       0               -19542              0.001022                -17630   \n",
       "4       1                38035              6.035081                  -849   \n",
       "\n",
       "   following_count_ratio  mentions_received_ratio  mentions_sent_diff  \\\n",
       "0               0.010132                 0.037846           -8.103828   \n",
       "1               1.390330                 2.233769            2.481652   \n",
       "2               2.520747                34.713213            4.758317   \n",
       "3               0.000397                 0.013425          -26.220532   \n",
       "4               0.503799                 6.890807           21.117111   \n",
       "\n",
       "   mentions_sent_ratio  retweets_sent_diff  posts_diff  posts_ratio  \\\n",
       "0             0.012250           -0.231920   -6.626665     0.051819   \n",
       "1             1.768866            0.546816    4.106299     4.836513   \n",
       "2             8.888426            0.490702    2.986516     5.951102   \n",
       "3             0.048327           -7.067053  -29.271279     0.088176   \n",
       "4             4.121682            2.213765   19.298035     5.229015   \n",
       "\n",
       "   network_feature_2_diff  network_feature_2_ratio  network_feature_3_diff  \\\n",
       "0               90.969697                 2.204413             9438.106061   \n",
       "1             -113.587704                 0.139687            -1601.149290   \n",
       "2               58.594502                 6.670436             5722.563574   \n",
       "3              -21.469296                 0.085218            -1299.678967   \n",
       "4               78.904293                 2.626893              840.220036   \n",
       "\n",
       "   network_feature_3_ratio  \n",
       "0                 5.923645  \n",
       "1                 0.453815  \n",
       "2                21.634244  \n",
       "3                 0.068895  \n",
       "4                 1.421453  "
      ]
     },
     "execution_count": 7,
     "metadata": {},
     "output_type": "execute_result"
    }
   ],
   "source": [
    "df_train.head()"
   ]
  },
  {
   "cell_type": "code",
   "execution_count": null,
   "id": "c66c868f",
   "metadata": {
    "colab": {
     "base_uri": "https://localhost:8080/",
     "height": 270
    },
    "id": "c66c868f",
    "outputId": "68851453-6b6f-4b5a-c42f-0ec242bf2c4d"
   },
   "outputs": [
    {
     "data": {
      "text/html": [
       "\n",
       "  <div id=\"df-2e8fbf24-3fe9-45cb-bf67-9bcf809538a6\">\n",
       "    <div class=\"colab-df-container\">\n",
       "      <div>\n",
       "<style scoped>\n",
       "    .dataframe tbody tr th:only-of-type {\n",
       "        vertical-align: middle;\n",
       "    }\n",
       "\n",
       "    .dataframe tbody tr th {\n",
       "        vertical-align: top;\n",
       "    }\n",
       "\n",
       "    .dataframe thead th {\n",
       "        text-align: right;\n",
       "    }\n",
       "</style>\n",
       "<table border=\"1\" class=\"dataframe\">\n",
       "  <thead>\n",
       "    <tr style=\"text-align: right;\">\n",
       "      <th></th>\n",
       "      <th>Choice</th>\n",
       "      <th>follower_count_diff</th>\n",
       "      <th>follower_count_ratio</th>\n",
       "      <th>following_count_diff</th>\n",
       "      <th>following_count_ratio</th>\n",
       "      <th>mentions_received_ratio</th>\n",
       "      <th>mentions_sent_diff</th>\n",
       "      <th>mentions_sent_ratio</th>\n",
       "      <th>retweets_sent_diff</th>\n",
       "      <th>posts_diff</th>\n",
       "      <th>posts_ratio</th>\n",
       "      <th>network_feature_2_diff</th>\n",
       "      <th>network_feature_2_ratio</th>\n",
       "      <th>network_feature_3_diff</th>\n",
       "      <th>network_feature_3_ratio</th>\n",
       "    </tr>\n",
       "  </thead>\n",
       "  <tbody>\n",
       "    <tr>\n",
       "      <th>0</th>\n",
       "      <td>0</td>\n",
       "      <td>0.507400</td>\n",
       "      <td>1.385615e-08</td>\n",
       "      <td>0.347553</td>\n",
       "      <td>0.0</td>\n",
       "      <td>2.190485e-08</td>\n",
       "      <td>0.447178</td>\n",
       "      <td>0.000014</td>\n",
       "      <td>0.496772</td>\n",
       "      <td>0.482830</td>\n",
       "      <td>0.000027</td>\n",
       "      <td>0.659024</td>\n",
       "      <td>0.0</td>\n",
       "      <td>0.386341</td>\n",
       "      <td>0.0</td>\n",
       "    </tr>\n",
       "    <tr>\n",
       "      <th>1</th>\n",
       "      <td>0</td>\n",
       "      <td>0.507632</td>\n",
       "      <td>1.152524e-06</td>\n",
       "      <td>0.363888</td>\n",
       "      <td>0.0</td>\n",
       "      <td>1.292939e-06</td>\n",
       "      <td>0.516176</td>\n",
       "      <td>0.002313</td>\n",
       "      <td>0.521014</td>\n",
       "      <td>0.510640</td>\n",
       "      <td>0.002517</td>\n",
       "      <td>0.588358</td>\n",
       "      <td>0.0</td>\n",
       "      <td>0.335476</td>\n",
       "      <td>0.0</td>\n",
       "    </tr>\n",
       "    <tr>\n",
       "      <th>2</th>\n",
       "      <td>0</td>\n",
       "      <td>0.507932</td>\n",
       "      <td>4.229814e-06</td>\n",
       "      <td>0.364108</td>\n",
       "      <td>0.0</td>\n",
       "      <td>2.009255e-05</td>\n",
       "      <td>0.531015</td>\n",
       "      <td>0.011629</td>\n",
       "      <td>0.519267</td>\n",
       "      <td>0.507738</td>\n",
       "      <td>0.003098</td>\n",
       "      <td>0.647840</td>\n",
       "      <td>0.0</td>\n",
       "      <td>0.369221</td>\n",
       "      <td>0.0</td>\n",
       "    </tr>\n",
       "    <tr>\n",
       "      <th>3</th>\n",
       "      <td>0</td>\n",
       "      <td>0.507606</td>\n",
       "      <td>2.133410e-09</td>\n",
       "      <td>0.354055</td>\n",
       "      <td>0.0</td>\n",
       "      <td>7.769693e-09</td>\n",
       "      <td>0.329091</td>\n",
       "      <td>0.000062</td>\n",
       "      <td>0.283996</td>\n",
       "      <td>0.424157</td>\n",
       "      <td>0.000046</td>\n",
       "      <td>0.620181</td>\n",
       "      <td>0.0</td>\n",
       "      <td>0.336865</td>\n",
       "      <td>0.0</td>\n",
       "    </tr>\n",
       "    <tr>\n",
       "      <th>4</th>\n",
       "      <td>1</td>\n",
       "      <td>0.508414</td>\n",
       "      <td>1.264841e-05</td>\n",
       "      <td>0.363242</td>\n",
       "      <td>0.0</td>\n",
       "      <td>3.988505e-06</td>\n",
       "      <td>0.637644</td>\n",
       "      <td>0.005391</td>\n",
       "      <td>0.572905</td>\n",
       "      <td>0.550002</td>\n",
       "      <td>0.002722</td>\n",
       "      <td>0.654856</td>\n",
       "      <td>0.0</td>\n",
       "      <td>0.346725</td>\n",
       "      <td>0.0</td>\n",
       "    </tr>\n",
       "  </tbody>\n",
       "</table>\n",
       "</div>\n",
       "      <button class=\"colab-df-convert\" onclick=\"convertToInteractive('df-2e8fbf24-3fe9-45cb-bf67-9bcf809538a6')\"\n",
       "              title=\"Convert this dataframe to an interactive table.\"\n",
       "              style=\"display:none;\">\n",
       "        \n",
       "  <svg xmlns=\"http://www.w3.org/2000/svg\" height=\"24px\"viewBox=\"0 0 24 24\"\n",
       "       width=\"24px\">\n",
       "    <path d=\"M0 0h24v24H0V0z\" fill=\"none\"/>\n",
       "    <path d=\"M18.56 5.44l.94 2.06.94-2.06 2.06-.94-2.06-.94-.94-2.06-.94 2.06-2.06.94zm-11 1L8.5 8.5l.94-2.06 2.06-.94-2.06-.94L8.5 2.5l-.94 2.06-2.06.94zm10 10l.94 2.06.94-2.06 2.06-.94-2.06-.94-.94-2.06-.94 2.06-2.06.94z\"/><path d=\"M17.41 7.96l-1.37-1.37c-.4-.4-.92-.59-1.43-.59-.52 0-1.04.2-1.43.59L10.3 9.45l-7.72 7.72c-.78.78-.78 2.05 0 2.83L4 21.41c.39.39.9.59 1.41.59.51 0 1.02-.2 1.41-.59l7.78-7.78 2.81-2.81c.8-.78.8-2.07 0-2.86zM5.41 20L4 18.59l7.72-7.72 1.47 1.35L5.41 20z\"/>\n",
       "  </svg>\n",
       "      </button>\n",
       "      \n",
       "  <style>\n",
       "    .colab-df-container {\n",
       "      display:flex;\n",
       "      flex-wrap:wrap;\n",
       "      gap: 12px;\n",
       "    }\n",
       "\n",
       "    .colab-df-convert {\n",
       "      background-color: #E8F0FE;\n",
       "      border: none;\n",
       "      border-radius: 50%;\n",
       "      cursor: pointer;\n",
       "      display: none;\n",
       "      fill: #1967D2;\n",
       "      height: 32px;\n",
       "      padding: 0 0 0 0;\n",
       "      width: 32px;\n",
       "    }\n",
       "\n",
       "    .colab-df-convert:hover {\n",
       "      background-color: #E2EBFA;\n",
       "      box-shadow: 0px 1px 2px rgba(60, 64, 67, 0.3), 0px 1px 3px 1px rgba(60, 64, 67, 0.15);\n",
       "      fill: #174EA6;\n",
       "    }\n",
       "\n",
       "    [theme=dark] .colab-df-convert {\n",
       "      background-color: #3B4455;\n",
       "      fill: #D2E3FC;\n",
       "    }\n",
       "\n",
       "    [theme=dark] .colab-df-convert:hover {\n",
       "      background-color: #434B5C;\n",
       "      box-shadow: 0px 1px 3px 1px rgba(0, 0, 0, 0.15);\n",
       "      filter: drop-shadow(0px 1px 2px rgba(0, 0, 0, 0.3));\n",
       "      fill: #FFFFFF;\n",
       "    }\n",
       "  </style>\n",
       "\n",
       "      <script>\n",
       "        const buttonEl =\n",
       "          document.querySelector('#df-2e8fbf24-3fe9-45cb-bf67-9bcf809538a6 button.colab-df-convert');\n",
       "        buttonEl.style.display =\n",
       "          google.colab.kernel.accessAllowed ? 'block' : 'none';\n",
       "\n",
       "        async function convertToInteractive(key) {\n",
       "          const element = document.querySelector('#df-2e8fbf24-3fe9-45cb-bf67-9bcf809538a6');\n",
       "          const dataTable =\n",
       "            await google.colab.kernel.invokeFunction('convertToInteractive',\n",
       "                                                     [key], {});\n",
       "          if (!dataTable) return;\n",
       "\n",
       "          const docLinkHtml = 'Like what you see? Visit the ' +\n",
       "            '<a target=\"_blank\" href=https://colab.research.google.com/notebooks/data_table.ipynb>data table notebook</a>'\n",
       "            + ' to learn more about interactive tables.';\n",
       "          element.innerHTML = '';\n",
       "          dataTable['output_type'] = 'display_data';\n",
       "          await google.colab.output.renderOutput(dataTable, element);\n",
       "          const docLink = document.createElement('div');\n",
       "          docLink.innerHTML = docLinkHtml;\n",
       "          element.appendChild(docLink);\n",
       "        }\n",
       "      </script>\n",
       "    </div>\n",
       "  </div>\n",
       "  "
      ],
      "text/plain": [
       "   Choice  follower_count_diff  follower_count_ratio  following_count_diff  \\\n",
       "0       0             0.507400          1.385615e-08              0.347553   \n",
       "1       0             0.507632          1.152524e-06              0.363888   \n",
       "2       0             0.507932          4.229814e-06              0.364108   \n",
       "3       0             0.507606          2.133410e-09              0.354055   \n",
       "4       1             0.508414          1.264841e-05              0.363242   \n",
       "\n",
       "   following_count_ratio  mentions_received_ratio  mentions_sent_diff  \\\n",
       "0                    0.0             2.190485e-08            0.447178   \n",
       "1                    0.0             1.292939e-06            0.516176   \n",
       "2                    0.0             2.009255e-05            0.531015   \n",
       "3                    0.0             7.769693e-09            0.329091   \n",
       "4                    0.0             3.988505e-06            0.637644   \n",
       "\n",
       "   mentions_sent_ratio  retweets_sent_diff  posts_diff  posts_ratio  \\\n",
       "0             0.000014            0.496772    0.482830     0.000027   \n",
       "1             0.002313            0.521014    0.510640     0.002517   \n",
       "2             0.011629            0.519267    0.507738     0.003098   \n",
       "3             0.000062            0.283996    0.424157     0.000046   \n",
       "4             0.005391            0.572905    0.550002     0.002722   \n",
       "\n",
       "   network_feature_2_diff  network_feature_2_ratio  network_feature_3_diff  \\\n",
       "0                0.659024                      0.0                0.386341   \n",
       "1                0.588358                      0.0                0.335476   \n",
       "2                0.647840                      0.0                0.369221   \n",
       "3                0.620181                      0.0                0.336865   \n",
       "4                0.654856                      0.0                0.346725   \n",
       "\n",
       "   network_feature_3_ratio  \n",
       "0                      0.0  \n",
       "1                      0.0  \n",
       "2                      0.0  \n",
       "3                      0.0  \n",
       "4                      0.0  "
      ]
     },
     "execution_count": 8,
     "metadata": {},
     "output_type": "execute_result"
    }
   ],
   "source": [
    "# normalize data\n",
    "for col in df_train.columns.to_list()[1:]:\n",
    "    miN, maX = df_train[col].min(), df_train[col].max()\n",
    "    df_train[col] = df_train[col].apply(lambda x: (x - miN)/(maX - miN))\n",
    "\n",
    "# impute null values with mean\n",
    "df_train = df_train.replace([np.inf, -np.inf], np.nan)\n",
    "for col in df_train.columns:\n",
    "    df_train[col].fillna(df_train[col].mean(), inplace=True) \n",
    "\n",
    "# all data values are between 0 and 1\n",
    "df_train.head()"
   ]
  },
  {
   "cell_type": "code",
   "execution_count": null,
   "id": "9073cd19",
   "metadata": {
    "id": "9073cd19"
   },
   "outputs": [],
   "source": [
    "from sklearn.model_selection import train_test_split, GridSearchCV\n",
    "from sklearn.metrics import confusion_matrix, accuracy_score, roc_auc_score\n",
    "from sklearn.ensemble import RandomForestClassifier\n",
    "\n",
    "from sklearn.linear_model import LogisticRegression\n",
    "from sklearn import svm\n",
    "import statsmodels.api as sm"
   ]
  },
  {
   "cell_type": "code",
   "execution_count": null,
   "id": "aa0cf402",
   "metadata": {
    "colab": {
     "base_uri": "https://localhost:8080/"
    },
    "id": "aa0cf402",
    "outputId": "dedcd51f-8b71-43b8-c6fb-a8c2fd0c80a5"
   },
   "outputs": [
    {
     "data": {
      "text/plain": [
       "1    2802\n",
       "0    2698\n",
       "Name: Choice, dtype: int64"
      ]
     },
     "execution_count": 10,
     "metadata": {},
     "output_type": "execute_result"
    }
   ],
   "source": [
    "df_train.Choice.value_counts()  # check imbalance"
   ]
  },
  {
   "cell_type": "code",
   "execution_count": null,
   "id": "544a9f81",
   "metadata": {
    "id": "544a9f81"
   },
   "outputs": [],
   "source": [
    "X = df_train.drop(columns='Choice')\n",
    "y = df_train['Choice']\n",
    "\n",
    "# 80-20 train-test split\n",
    "X_train, X_test, y_train, y_test = train_test_split(X, y, test_size=0.2, random_state=42)"
   ]
  },
  {
   "cell_type": "code",
   "execution_count": null,
   "id": "CpXXfwDi6Vpa",
   "metadata": {
    "colab": {
     "base_uri": "https://localhost:8080/"
    },
    "id": "CpXXfwDi6Vpa",
    "outputId": "69d5536e-bf55-4fcc-dfe6-995bca15cf76"
   },
   "outputs": [
    {
     "name": "stdout",
     "output_type": "stream",
     "text": [
      "accuracy: 0.6618181818181819, roc_auc: 0.7150513075140681\n"
     ]
    },
    {
     "data": {
      "text/plain": [
       "array([[374, 156],\n",
       "       [216, 354]])"
      ]
     },
     "execution_count": 12,
     "metadata": {},
     "output_type": "execute_result"
    }
   ],
   "source": [
    "# svm\n",
    "svm_clf = svm.SVC(probability=True, random_state=42).fit(X_train,y_train)\n",
    "y_pred = svm_clf.predict(X_test)\n",
    "y_pred_prob = svm_clf.predict_proba(X_test)[:,1]\n",
    "cm0 = confusion_matrix(y_test, y_pred)\n",
    "print(\"accuracy: {}, roc_auc: {}\".format(\\\n",
    "                                         accuracy_score(y_true=y_test, y_pred=y_pred), \\\n",
    "                                         roc_auc_score(y_true=y_test, y_score=y_pred_prob)))\n",
    "cm0"
   ]
  },
  {
   "cell_type": "code",
   "execution_count": null,
   "id": "f57c5aba",
   "metadata": {
    "colab": {
     "base_uri": "https://localhost:8080/"
    },
    "id": "f57c5aba",
    "outputId": "c86282cc-a3f4-43fd-e8bf-7f0d48f55704"
   },
   "outputs": [
    {
     "name": "stdout",
     "output_type": "stream",
     "text": [
      "Best parameters: {'max_features': 4, 'n_estimators': 200}\n",
      "accuracy: 0.7536363636363637, roc_auc: 0.8371201588877856\n"
     ]
    },
    {
     "data": {
      "text/plain": [
       "array([[409, 121],\n",
       "       [150, 420]])"
      ]
     },
     "execution_count": 13,
     "metadata": {},
     "output_type": "execute_result"
    }
   ],
   "source": [
    "# Random Forest\n",
    "param_grid = {\"n_estimators\": [50,100,150,200], \"max_features\": [1,4,8,13]}\n",
    "grid_search = GridSearchCV(RandomForestClassifier(random_state=15), param_grid).fit(X_train, y_train)\n",
    "print('Best parameters:', grid_search.best_params_, end='\\n')\n",
    "\n",
    "clf1 = RandomForestClassifier(random_state=42).set_params(**grid_search.best_params_).fit(X_train, y_train)\n",
    "\n",
    "y_pred = clf1.predict(X_test)\n",
    "y_pred_prob = clf1.predict_proba(X_test)[:,1]\n",
    "\n",
    "cm1 = confusion_matrix(y_test, y_pred)\n",
    "print(\"accuracy: {}, roc_auc: {}\".format(\\\n",
    "                                         accuracy_score(y_true=y_test, y_pred=y_pred), \\\n",
    "                                         roc_auc_score(y_true=y_test, y_score=y_pred_prob)))\n",
    "cm1"
   ]
  },
  {
   "cell_type": "code",
   "execution_count": null,
   "id": "Rnk0LQH1aJr2",
   "metadata": {
    "colab": {
     "base_uri": "https://localhost:8080/"
    },
    "id": "Rnk0LQH1aJr2",
    "outputId": "334434dd-146b-4e2a-a517-47e4a035a923"
   },
   "outputs": [
    {
     "data": {
      "text/plain": [
       "follower_count_diff        0.187566\n",
       "follower_count_ratio       0.159079\n",
       "mentions_received_ratio    0.098884\n",
       "mentions_sent_ratio        0.076064\n",
       "posts_ratio                0.074755\n",
       "following_count_diff       0.073106\n",
       "posts_diff                 0.071063\n",
       "network_feature_2_diff     0.070781\n",
       "mentions_sent_diff         0.068939\n",
       "network_feature_3_diff     0.063190\n",
       "retweets_sent_diff         0.056572\n",
       "following_count_ratio      0.000000\n",
       "network_feature_2_ratio    0.000000\n",
       "network_feature_3_ratio    0.000000\n",
       "dtype: float64"
      ]
     },
     "execution_count": 14,
     "metadata": {},
     "output_type": "execute_result"
    }
   ],
   "source": [
    "feature_importance = pd.Series(clf1.feature_importances_, index=X_train.columns.to_list()).sort_values(ascending=False)\n",
    "feature_importance"
   ]
  },
  {
   "cell_type": "code",
   "execution_count": null,
   "id": "QnnmkiBoaLns",
   "metadata": {
    "colab": {
     "base_uri": "https://localhost:8080/",
     "height": 394
    },
    "id": "QnnmkiBoaLns",
    "outputId": "ab208997-5063-4c7b-d777-3c8dbc6531c0"
   },
   "outputs": [
    {
     "data": {
      "image/png": "[encoded data removed]",
      "text/plain": [
       "<Figure size 432x288 with 1 Axes>"
      ]
     },
     "metadata": {
      "needs_background": "light"
     },
     "output_type": "display_data"
    }
   ],
   "source": [
    "plt.bar(x=feature_importance.index.to_numpy(), height=feature_importance, color='#087E8B')\n",
    "plt.title(\"Gini Importance from Random Forest\")\n",
    "plt.xticks(rotation=90)\n",
    "plt.show()"
   ]
  },
  {
   "cell_type": "code",
   "execution_count": null,
   "id": "JYAoFGwdaN6q",
   "metadata": {
    "colab": {
     "base_uri": "https://localhost:8080/"
    },
    "id": "JYAoFGwdaN6q",
    "outputId": "38b5b998-0d3a-4770-df2b-84edf3cce20b"
   },
   "outputs": [
    {
     "data": {
      "text/plain": [
       "['follower_count_diff',\n",
       " 'follower_count_ratio',\n",
       " 'mentions_received_ratio',\n",
       " 'mentions_sent_ratio',\n",
       " 'posts_ratio',\n",
       " 'following_count_diff',\n",
       " 'posts_diff',\n",
       " 'network_feature_2_diff',\n",
       " 'mentions_sent_diff',\n",
       " 'network_feature_3_diff',\n",
       " 'retweets_sent_diff']"
      ]
     },
     "execution_count": 16,
     "metadata": {},
     "output_type": "execute_result"
    }
   ],
   "source": [
    "# refine the random forest model by dropping features that have 0 gini importance\n",
    "features_selected = list(feature_importance[feature_importance > 0].index)\n",
    "features_selected"
   ]
  },
  {
   "cell_type": "code",
   "execution_count": null,
   "id": "F4BH-AsuaP58",
   "metadata": {
    "colab": {
     "base_uri": "https://localhost:8080/"
    },
    "id": "F4BH-AsuaP58",
    "outputId": "6c94a2f8-a5ed-4e3e-e398-1e6979c7b228"
   },
   "outputs": [
    {
     "name": "stdout",
     "output_type": "stream",
     "text": [
      "accuracy: 0.75\n",
      "roc_auc: 0.8375091029460444\n"
     ]
    },
    {
     "data": {
      "text/plain": [
       "array([[407, 123],\n",
       "       [152, 418]])"
      ]
     },
     "execution_count": 17,
     "metadata": {},
     "output_type": "execute_result"
    }
   ],
   "source": [
    "# best random forest model with selected features\n",
    "#### this will be the model we choose to use later ####\n",
    "new_X_train, new_X_test = X_train[features_selected], X_test[features_selected]\n",
    "\n",
    "clf_rf = RandomForestClassifier(random_state=42).set_params(**grid_search.best_params_).fit(new_X_train, y_train)\n",
    "y_pred = clf_rf.predict(new_X_test)\n",
    "y_pred_prob = clf_rf.predict_proba(new_X_test)[:,1]\n",
    "print(\"accuracy:\", accuracy_score(y_true=y_test, y_pred=y_pred))\n",
    "print(\"roc_auc:\", roc_auc_score(y_test, y_pred_prob))\n",
    "confusion_matrix(y_test, y_pred)\n"
   ]
  },
  {
   "cell_type": "code",
   "execution_count": null,
   "id": "qDa4y1STfZ3N",
   "metadata": {
    "colab": {
     "base_uri": "https://localhost:8080/",
     "height": 394
    },
    "id": "qDa4y1STfZ3N",
    "outputId": "8f144a16-e287-43f3-9705-f4c88004b1cd"
   },
   "outputs": [
    {
     "data": {
      "image/png": "[encoded data removed]",
      "text/plain": [
       "<Figure size 432x288 with 1 Axes>"
      ]
     },
     "metadata": {
      "needs_background": "light"
     },
     "output_type": "display_data"
    }
   ],
   "source": [
    "new_feature_importance = pd.Series(clf_rf.feature_importances_, index=new_X_train.columns.to_list()).sort_values(ascending=False)\n",
    "plt.bar(x=new_feature_importance.index.to_numpy(), height=new_feature_importance, color='#087E8B')\n",
    "plt.title(\"Gini Importance from Random Forest\")\n",
    "plt.xticks(rotation=90)\n",
    "plt.show()"
   ]
  },
  {
   "cell_type": "code",
   "execution_count": null,
   "id": "65d0be76",
   "metadata": {
    "colab": {
     "base_uri": "https://localhost:8080/"
    },
    "id": "65d0be76",
    "outputId": "2e12b040-e1be-4e9b-ebaa-9527f07ed47a"
   },
   "outputs": [
    {
     "name": "stdout",
     "output_type": "stream",
     "text": [
      "accuracy: 0.6581818181818182, roc_auc: 0.7101456471367097\n"
     ]
    },
    {
     "data": {
      "text/plain": [
       "array([[362, 168],\n",
       "       [208, 362]])"
      ]
     },
     "execution_count": 19,
     "metadata": {},
     "output_type": "execute_result"
    }
   ],
   "source": [
    "# Logistic Regression\n",
    "clf2 = LogisticRegression(random_state=42).fit(new_X_train, y_train)\n",
    "y_pred = clf2.predict(new_X_test)\n",
    "y_pred_prob = clf2.predict_proba(new_X_test)[:,1]\n",
    "\n",
    "cm2 = confusion_matrix(y_test, y_pred)\n",
    "print(\"accuracy: {}, roc_auc: {}\".format(\\\n",
    "                                         accuracy_score(y_true=y_test, y_pred=y_pred), \\\n",
    "                                         roc_auc_score(y_true=y_test, y_score=y_pred_prob)))\n",
    "cm2"
   ]
  },
  {
   "cell_type": "code",
   "execution_count": null,
   "id": "376b67e6",
   "metadata": {
    "colab": {
     "base_uri": "https://localhost:8080/"
    },
    "id": "376b67e6",
    "outputId": "03dabc01-7bed-4524-9792-9c0b19375945"
   },
   "outputs": [
    {
     "data": {
      "text/plain": [
       "follower_count_diff        8.343134\n",
       "mentions_sent_ratio        4.145960\n",
       "retweets_sent_diff         4.062249\n",
       "network_feature_2_diff     2.527109\n",
       "network_feature_3_diff     2.477096\n",
       "following_count_diff       2.257648\n",
       "posts_ratio                2.010914\n",
       "follower_count_ratio       1.070238\n",
       "mentions_received_ratio    0.855585\n",
       "mentions_sent_diff         0.851713\n",
       "posts_diff                 0.778549\n",
       "dtype: float64"
      ]
     },
     "execution_count": 20,
     "metadata": {},
     "output_type": "execute_result"
    }
   ],
   "source": [
    "log_importance = pd.Series(clf2.coef_[0], index=features_selected).sort_values(ascending=False)\n",
    "log_importance"
   ]
  },
  {
   "cell_type": "code",
   "execution_count": null,
   "id": "160f8c2b",
   "metadata": {
    "colab": {
     "base_uri": "https://localhost:8080/",
     "height": 394
    },
    "id": "160f8c2b",
    "outputId": "4fb69a3a-939b-4dd5-9de7-c048d3ae8afd"
   },
   "outputs": [
    {
     "data": {
      "image/png": "[encoded data removed]",
      "text/plain": [
       "<Figure size 432x288 with 1 Axes>"
      ]
     },
     "metadata": {
      "needs_background": "light"
     },
     "output_type": "display_data"
    }
   ],
   "source": [
    "plt.bar(x=log_importance.index.to_numpy(), height=log_importance, color='#087E8B')\n",
    "plt.title(\"Feature Importance from Logistic Regression Coefficients\")\n",
    "plt.xticks(rotation=90)\n",
    "plt.show()"
   ]
  },
  {
   "cell_type": "code",
   "execution_count": null,
   "id": "de95917c",
   "metadata": {
    "id": "de95917c"
   },
   "outputs": [],
   "source": []
  },
  {
   "cell_type": "markdown",
   "id": "19cd40qNO6kf",
   "metadata": {
    "id": "19cd40qNO6kf"
   },
   "source": [
    "## Part 1.1 answer\n",
    "\n",
    "Our best model is a Random Forest classifier with `max_features=4` and `n_estimators=200`\n",
    "Confusion matrix of our best model:\n",
    "\n",
    "||0|1|\n",
    "|---|---|---|\n",
    "|0|407|123|\n",
    "|1|152|418|\n",
    "\n",
    "In our best model (Random Forest), the top 3 best predictors are the difference and ratio of `follower_count`, and the ratio of `mentions_received`.\n",
    "\n",
    "In our logistic regression model (with an accuracy of 65.8%), the top 3 best predictors are the difference in `follower_count`, ratio of `mentions_sent`, and difference in `retweets_sent`.\n",
    "\n",
    "The results from two models imply that the absolute value of a user's follwer number is very important in identifying an influencer. If a business would like to optimize their capital in marketing through influencers, they should choose influencers mostly by their follower number and mentions. "
   ]
  },
  {
   "cell_type": "code",
   "execution_count": null,
   "id": "ECNzbSZKO6WD",
   "metadata": {
    "id": "ECNzbSZKO6WD"
   },
   "outputs": [],
   "source": []
  },
  {
   "cell_type": "markdown",
   "id": "374aa7ce",
   "metadata": {
    "id": "374aa7ce"
   },
   "source": [
    "# 1.2 Calculate the financial value of your model\n",
    "+ non-influencer tweets, no benefit\n",
    "+ influencer tweets once, 0.01\\% chance that followers will buy one unit\n",
    "+ influencer tweets twice, buying probability 0.015\\%\n",
    "\n",
    "profit margin = \\\\$10 per unit, one customer can buy only one unit \n",
    "\n",
    "+ Without analytics, offers \\\\$5 to each person (A and B) to tweet once. \n",
    "+ With analytics, offers \\\\$10 to influencers by the model to send two tweets each \n",
    "+ non-influencer not selected/paid\n",
    "\n",
    "What is the lift in expected net profit from using your analytic model (versus not using analytics)? Show all calculations. \n",
    "\n",
    "What is the lift in net profit from using a perfect analytic model (versus not using analytics)?\n",
    "\n",
    "$$SalesLift = (ActualSales)-(BaselineAmount)$$"
   ]
  },
  {
   "cell_type": "code",
   "execution_count": null,
   "id": "79a8b130",
   "metadata": {
    "id": "79a8b130"
   },
   "outputs": [],
   "source": [
    "cols = ['Choice','A_follower_count','B_follower_count']\n",
    "train2 = train.copy()[cols]"
   ]
  },
  {
   "cell_type": "code",
   "execution_count": null,
   "id": "7xNho8uoaemw",
   "metadata": {
    "colab": {
     "base_uri": "https://localhost:8080/"
    },
    "id": "7xNho8uoaemw",
    "outputId": "78154e1c-ddee-487f-dd66-674a56514ee2"
   },
   "outputs": [
    {
     "name": "stdout",
     "output_type": "stream",
     "text": [
      "profit without analytics: $7289539.46\n"
     ]
    }
   ],
   "source": [
    "### without analytics\n",
    "# in each observation, \n",
    "# cost = $5 * 2 = $10\n",
    "# sales = (A_followers + B_followers) * 0.01% * $10\n",
    "profit_no = float(np.sum((train2.A_follower_count + train2.B_follower_count) * 10 * 0.0001 - 5*2))\n",
    "print(\"profit without analytics: ${:.2f}\".format(profit_no))"
   ]
  },
  {
   "cell_type": "markdown",
   "id": "TLUM1He5ainP",
   "metadata": {
    "id": "TLUM1He5ainP"
   },
   "source": [
    "We used the random forest model `clf_rf` in this prediction"
   ]
  },
  {
   "cell_type": "code",
   "execution_count": null,
   "id": "59CHk5AYagUO",
   "metadata": {
    "colab": {
     "base_uri": "https://localhost:8080/",
     "height": 206
    },
    "id": "59CHk5AYagUO",
    "outputId": "598d35aa-e07d-4e08-d4e7-4081366ee5e1"
   },
   "outputs": [
    {
     "data": {
      "text/html": [
       "\n",
       "  <div id=\"df-16e5c4da-141b-4cf7-abb0-6152d07e8510\">\n",
       "    <div class=\"colab-df-container\">\n",
       "      <div>\n",
       "<style scoped>\n",
       "    .dataframe tbody tr th:only-of-type {\n",
       "        vertical-align: middle;\n",
       "    }\n",
       "\n",
       "    .dataframe tbody tr th {\n",
       "        vertical-align: top;\n",
       "    }\n",
       "\n",
       "    .dataframe thead th {\n",
       "        text-align: right;\n",
       "    }\n",
       "</style>\n",
       "<table border=\"1\" class=\"dataframe\">\n",
       "  <thead>\n",
       "    <tr style=\"text-align: right;\">\n",
       "      <th></th>\n",
       "      <th>actual</th>\n",
       "      <th>predicted</th>\n",
       "      <th>A_follower_count</th>\n",
       "      <th>B_follower_count</th>\n",
       "    </tr>\n",
       "  </thead>\n",
       "  <tbody>\n",
       "    <tr>\n",
       "      <th>0</th>\n",
       "      <td>0</td>\n",
       "      <td>0</td>\n",
       "      <td>228</td>\n",
       "      <td>34463</td>\n",
       "    </tr>\n",
       "    <tr>\n",
       "      <th>1</th>\n",
       "      <td>0</td>\n",
       "      <td>0</td>\n",
       "      <td>21591</td>\n",
       "      <td>39262</td>\n",
       "    </tr>\n",
       "    <tr>\n",
       "      <th>2</th>\n",
       "      <td>0</td>\n",
       "      <td>0</td>\n",
       "      <td>7310</td>\n",
       "      <td>3622</td>\n",
       "    </tr>\n",
       "    <tr>\n",
       "      <th>3</th>\n",
       "      <td>0</td>\n",
       "      <td>0</td>\n",
       "      <td>20</td>\n",
       "      <td>19562</td>\n",
       "    </tr>\n",
       "    <tr>\n",
       "      <th>4</th>\n",
       "      <td>1</td>\n",
       "      <td>1</td>\n",
       "      <td>45589</td>\n",
       "      <td>7554</td>\n",
       "    </tr>\n",
       "  </tbody>\n",
       "</table>\n",
       "</div>\n",
       "      <button class=\"colab-df-convert\" onclick=\"convertToInteractive('df-16e5c4da-141b-4cf7-abb0-6152d07e8510')\"\n",
       "              title=\"Convert this dataframe to an interactive table.\"\n",
       "              style=\"display:none;\">\n",
       "        \n",
       "  <svg xmlns=\"http://www.w3.org/2000/svg\" height=\"24px\"viewBox=\"0 0 24 24\"\n",
       "       width=\"24px\">\n",
       "    <path d=\"M0 0h24v24H0V0z\" fill=\"none\"/>\n",
       "    <path d=\"M18.56 5.44l.94 2.06.94-2.06 2.06-.94-2.06-.94-.94-2.06-.94 2.06-2.06.94zm-11 1L8.5 8.5l.94-2.06 2.06-.94-2.06-.94L8.5 2.5l-.94 2.06-2.06.94zm10 10l.94 2.06.94-2.06 2.06-.94-2.06-.94-.94-2.06-.94 2.06-2.06.94z\"/><path d=\"M17.41 7.96l-1.37-1.37c-.4-.4-.92-.59-1.43-.59-.52 0-1.04.2-1.43.59L10.3 9.45l-7.72 7.72c-.78.78-.78 2.05 0 2.83L4 21.41c.39.39.9.59 1.41.59.51 0 1.02-.2 1.41-.59l7.78-7.78 2.81-2.81c.8-.78.8-2.07 0-2.86zM5.41 20L4 18.59l7.72-7.72 1.47 1.35L5.41 20z\"/>\n",
       "  </svg>\n",
       "      </button>\n",
       "      \n",
       "  <style>\n",
       "    .colab-df-container {\n",
       "      display:flex;\n",
       "      flex-wrap:wrap;\n",
       "      gap: 12px;\n",
       "    }\n",
       "\n",
       "    .colab-df-convert {\n",
       "      background-color: #E8F0FE;\n",
       "      border: none;\n",
       "      border-radius: 50%;\n",
       "      cursor: pointer;\n",
       "      display: none;\n",
       "      fill: #1967D2;\n",
       "      height: 32px;\n",
       "      padding: 0 0 0 0;\n",
       "      width: 32px;\n",
       "    }\n",
       "\n",
       "    .colab-df-convert:hover {\n",
       "      background-color: #E2EBFA;\n",
       "      box-shadow: 0px 1px 2px rgba(60, 64, 67, 0.3), 0px 1px 3px 1px rgba(60, 64, 67, 0.15);\n",
       "      fill: #174EA6;\n",
       "    }\n",
       "\n",
       "    [theme=dark] .colab-df-convert {\n",
       "      background-color: #3B4455;\n",
       "      fill: #D2E3FC;\n",
       "    }\n",
       "\n",
       "    [theme=dark] .colab-df-convert:hover {\n",
       "      background-color: #434B5C;\n",
       "      box-shadow: 0px 1px 3px 1px rgba(0, 0, 0, 0.15);\n",
       "      filter: drop-shadow(0px 1px 2px rgba(0, 0, 0, 0.3));\n",
       "      fill: #FFFFFF;\n",
       "    }\n",
       "  </style>\n",
       "\n",
       "      <script>\n",
       "        const buttonEl =\n",
       "          document.querySelector('#df-16e5c4da-141b-4cf7-abb0-6152d07e8510 button.colab-df-convert');\n",
       "        buttonEl.style.display =\n",
       "          google.colab.kernel.accessAllowed ? 'block' : 'none';\n",
       "\n",
       "        async function convertToInteractive(key) {\n",
       "          const element = document.querySelector('#df-16e5c4da-141b-4cf7-abb0-6152d07e8510');\n",
       "          const dataTable =\n",
       "            await google.colab.kernel.invokeFunction('convertToInteractive',\n",
       "                                                     [key], {});\n",
       "          if (!dataTable) return;\n",
       "\n",
       "          const docLinkHtml = 'Like what you see? Visit the ' +\n",
       "            '<a target=\"_blank\" href=https://colab.research.google.com/notebooks/data_table.ipynb>data table notebook</a>'\n",
       "            + ' to learn more about interactive tables.';\n",
       "          element.innerHTML = '';\n",
       "          dataTable['output_type'] = 'display_data';\n",
       "          await google.colab.output.renderOutput(dataTable, element);\n",
       "          const docLink = document.createElement('div');\n",
       "          docLink.innerHTML = docLinkHtml;\n",
       "          element.appendChild(docLink);\n",
       "        }\n",
       "      </script>\n",
       "    </div>\n",
       "  </div>\n",
       "  "
      ],
      "text/plain": [
       "   actual  predicted  A_follower_count  B_follower_count\n",
       "0       0          0               228             34463\n",
       "1       0          0             21591             39262\n",
       "2       0          0              7310              3622\n",
       "3       0          0                20             19562\n",
       "4       1          1             45589              7554"
      ]
     },
     "execution_count": 24,
     "metadata": {},
     "output_type": "execute_result"
    }
   ],
   "source": [
    "### with OUR analysis\n",
    "# get a predicted column of 'Choice' using our model using both test and train set\n",
    "new_train = pd.concat([new_X_train, new_X_test],axis=0)\n",
    "new_train['predicted'] = clf_rf.predict(new_train)\n",
    "\n",
    "# new_train = pd.concat([X_train, X_test],axis=0)\n",
    "# new_train['predicted'] = clf1.predict(new_train)\n",
    "\n",
    "# add the original labels\n",
    "new_train['actual'] = pd.concat([y_train, y_test], axis=0)\n",
    "\n",
    "# merge the data above with the original training data and keep only related features\n",
    "cols = ['actual','predicted','A_follower_count','B_follower_count']\n",
    "train3 = train2.merge(new_train, left_index=True, right_index=True)[cols]\n",
    "train3.head()"
   ]
  },
  {
   "cell_type": "code",
   "execution_count": null,
   "id": "EmWBPLZ0alS1",
   "metadata": {
    "colab": {
     "base_uri": "https://localhost:8080/"
    },
    "id": "EmWBPLZ0alS1",
    "outputId": "4a414d46-08c2-43ca-9f28-e4dec6895d25"
   },
   "outputs": [
    {
     "name": "stdout",
     "output_type": "stream",
     "text": [
      "profit with our analytics model: $8383252.91\n"
     ]
    }
   ],
   "source": [
    "profit_model = float(np.sum(np.where(train3.predicted == 1, \\\n",
    "                               train3.A_follower_count*0.00015*10-10, \\\n",
    "                               train3.B_follower_count*0.00015*10-10)))\n",
    "print(\"profit with our analytics model: ${:.2f}\".format(profit_model))"
   ]
  },
  {
   "cell_type": "code",
   "execution_count": null,
   "id": "CtW-7nIaam04",
   "metadata": {
    "colab": {
     "base_uri": "https://localhost:8080/"
    },
    "id": "CtW-7nIaam04",
    "outputId": "1d5a2bb3-3a66-4ea0-e33b-230b0be4d915"
   },
   "outputs": [
    {
     "name": "stdout",
     "output_type": "stream",
     "text": [
      "Lift: $1093713.45\n"
     ]
    }
   ],
   "source": [
    "print(\"Lift: ${:.2f}\".format(profit_model-profit_no))"
   ]
  },
  {
   "cell_type": "code",
   "execution_count": null,
   "id": "iyrMrX5Saod7",
   "metadata": {
    "colab": {
     "base_uri": "https://localhost:8080/"
    },
    "id": "iyrMrX5Saod7",
    "outputId": "7b51f6c0-c929-43f0-af38-1c1c2a637d48"
   },
   "outputs": [
    {
     "name": "stdout",
     "output_type": "stream",
     "text": [
      "profit with a perfect analytics model: $8009852.89\n"
     ]
    }
   ],
   "source": [
    "### with PERFECT analytics\n",
    "profit_perfect = float(np.sum(np.where(train3.actual == 1, \\\n",
    "                                 train3.A_follower_count*0.00015*10-10, \\\n",
    "                                 train3.B_follower_count*0.00015*10-10)))\n",
    "print(\"profit with a perfect analytics model: ${:.2f}\".format(profit_perfect))"
   ]
  },
  {
   "cell_type": "code",
   "execution_count": null,
   "id": "xf1hvmewap8X",
   "metadata": {
    "colab": {
     "base_uri": "https://localhost:8080/"
    },
    "id": "xf1hvmewap8X",
    "outputId": "0285c2b3-c37a-4f7c-91aa-c0d2b547bfda"
   },
   "outputs": [
    {
     "name": "stdout",
     "output_type": "stream",
     "text": [
      "Lift: $720313.43\n"
     ]
    }
   ],
   "source": [
    "print(\"Lift: ${:.2f}\".format(profit_perfect-profit_no))"
   ]
  },
  {
   "cell_type": "code",
   "execution_count": null,
   "id": "cOm-gwV7jKkC",
   "metadata": {
    "colab": {
     "base_uri": "https://localhost:8080/"
    },
    "id": "cOm-gwV7jKkC",
    "outputId": "3ef4a8ab-a4f7-4880-e227-14e6486852a9"
   },
   "outputs": [
    {
     "name": "stdout",
     "output_type": "stream",
     "text": [
      "A < B even though A has more followers than B: 656\n",
      "A < B even though A has more followers than B, but model predicts A > B: 108\n"
     ]
    }
   ],
   "source": [
    "# analysis on the lift difference\n",
    "print(\"A < B even though A has more followers than B:\", \\\n",
    "      np.where((train3.actual == 0) & (train3.A_follower_count > train3.B_follower_count), 1, 0).sum())\n",
    "print(\"A < B even though A has more followers than B, but model predicts A > B:\", \\\n",
    "      np.where((train3.predicted != train3.actual) & (train3.predicted == 1) & (train3.A_follower_count > train3.B_follower_count), 1, 0).sum())"
   ]
  },
  {
   "cell_type": "markdown",
   "id": "6eZi5HW3iqBg",
   "metadata": {
    "id": "6eZi5HW3iqBg"
   },
   "source": [
    "The lift using our model is bigger than using a perfect model. This seems unexpected at first. But if we look deeper into the data, i.e., the `train3` data set, we see that there are many cases where A < B even though A has more followers. And our model wrongly predicted many of these cases. This is because that our model gives a bigger weight to the follower count of each user. But in reality there are lots of other factors determining an influencer. Therefore, in our model, lots of users were identified as an influencer mainly because of its follower counts and this could cause the variation in profit margin calculation."
   ]
  },
  {
   "cell_type": "code",
   "execution_count": null,
   "id": "79_VGkVDeQxM",
   "metadata": {
    "id": "79_VGkVDeQxM"
   },
   "outputs": [],
   "source": []
  }
 ],
 "metadata": {
  "colab": {
   "provenance": []
  },
  "kernelspec": {
   "display_name": "Python 3 (ipykernel)",
   "language": "python",
   "name": "python3"
  },
  "language_info": {
   "codemirror_mode": {
    "name": "ipython",
    "version": 3
   },
   "file_extension": ".py",
   "mimetype": "text/x-python",
   "name": "python",
   "nbconvert_exporter": "python",
   "pygments_lexer": "ipython3",
   "version": "3.9.12"
  }
 },
 "nbformat": 4,
 "nbformat_minor": 5
}
