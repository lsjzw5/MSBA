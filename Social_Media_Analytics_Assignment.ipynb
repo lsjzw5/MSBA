{
 "cells": [
  {
   "cell_type": "markdown",
   "id": "011f55e1",
   "metadata": {},
   "source": [
    "# Social Media Analytics"
   ]
  },
  {
   "cell_type": "code",
   "execution_count": 1,
   "id": "51bd86eb",
   "metadata": {
    "id": "51bd86eb"
   },
   "outputs": [],
   "source": [
    "import pandas as pd\n",
    "import numpy as np\n",
    "import matplotlib.pyplot as plt"
   ]
  },
  {
   "cell_type": "markdown",
   "id": "YfhfIGM-s_Z7",
   "metadata": {
    "id": "YfhfIGM-s_Z7"
   },
   "source": [
    "# Part 1: Find predictors of influence\n",
    "\n",
    "[data source](https://www.kaggle.com/competitions/predict-who-is-more-influential-in-a-social-network/data?select=train.csv)\n",
    "\n",
    "Use the training dataset only to build and validate your model. Each observation in \n",
    "the dataset describes two individuals, A and B. There are 11 variables for each \n",
    "person based on Twitter activity, e.g., number of followers, retweets, network \n",
    "characteristics, etc. Each observation shows whether A > B (Choice = “1”) or B > A \n",
    "(Choice = “0”). \n",
    "\n",
    "Using the training data set (train.csv), create an analytic model for pairs of \n",
    "individuals to classify who is more influential\n",
    "+ Check if you should use all variables\n",
    "+ A transformation of the variables (like A/B or A-B) may be better than \n",
    "using A and B variables separately, and may also be easier to \n",
    "interpret. \n",
    "+ Normalize all data so that all values are between 0 and 1\n",
    "+ Report the confusion matrix of your “best” model (provide screenshot)\n",
    "\n",
    "From your model, which factors are best predictors of influence? You can use a \n",
    "logistic regression for this part and provide screenshots. How can a business use \n",
    "your model/results? "
   ]
  },
  {
   "cell_type": "code",
   "execution_count": 2,
   "id": "1fYJ-UhwrYrO",
   "metadata": {
    "id": "1fYJ-UhwrYrO"
   },
   "outputs": [
    {
     "name": "stdout",
     "output_type": "stream",
     "text": [
      "<class 'pandas.core.frame.DataFrame'>\n",
      "RangeIndex: 5500 entries, 0 to 5499\n",
      "Data columns (total 23 columns):\n",
      " #   Column               Non-Null Count  Dtype  \n",
      "---  ------               --------------  -----  \n",
      " 0   Choice               5500 non-null   int64  \n",
      " 1   A_follower_count     5500 non-null   int64  \n",
      " 2   A_following_count    5500 non-null   int64  \n",
      " 3   A_listed_count       5500 non-null   int64  \n",
      " 4   A_mentions_received  5500 non-null   float64\n",
      " 5   A_retweets_received  5500 non-null   float64\n",
      " 6   A_mentions_sent      5500 non-null   float64\n",
      " 7   A_retweets_sent      5500 non-null   float64\n",
      " 8   A_posts              5500 non-null   float64\n",
      " 9   A_network_feature_1  5500 non-null   int64  \n",
      " 10  A_network_feature_2  5500 non-null   float64\n",
      " 11  A_network_feature_3  5500 non-null   float64\n",
      " 12  B_follower_count     5500 non-null   int64  \n",
      " 13  B_following_count    5500 non-null   int64  \n",
      " 14  B_listed_count       5500 non-null   int64  \n",
      " 15  B_mentions_received  5500 non-null   float64\n",
      " 16  B_retweets_received  5500 non-null   float64\n",
      " 17  B_mentions_sent      5500 non-null   float64\n",
      " 18  B_retweets_sent      5500 non-null   float64\n",
      " 19  B_posts              5500 non-null   float64\n",
      " 20  B_network_feature_1  5500 non-null   int64  \n",
      " 21  B_network_feature_2  5500 non-null   float64\n",
      " 22  B_network_feature_3  5500 non-null   float64\n",
      "dtypes: float64(14), int64(9)\n",
      "memory usage: 988.4 KB\n"
     ]
    },
    {
     "data": {
      "text/html": [
       "<div>\n",
       "<style scoped>\n",
       "    .dataframe tbody tr th:only-of-type {\n",
       "        vertical-align: middle;\n",
       "    }\n",
       "\n",
       "    .dataframe tbody tr th {\n",
       "        vertical-align: top;\n",
       "    }\n",
       "\n",
       "    .dataframe thead th {\n",
       "        text-align: right;\n",
       "    }\n",
       "</style>\n",
       "<table border=\"1\" class=\"dataframe\">\n",
       "  <thead>\n",
       "    <tr style=\"text-align: right;\">\n",
       "      <th></th>\n",
       "      <th>Choice</th>\n",
       "      <th>A_follower_count</th>\n",
       "      <th>A_following_count</th>\n",
       "      <th>A_listed_count</th>\n",
       "      <th>A_mentions_received</th>\n",
       "      <th>A_retweets_received</th>\n",
       "      <th>A_mentions_sent</th>\n",
       "      <th>A_retweets_sent</th>\n",
       "      <th>A_posts</th>\n",
       "      <th>A_network_feature_1</th>\n",
       "      <th>...</th>\n",
       "      <th>B_following_count</th>\n",
       "      <th>B_listed_count</th>\n",
       "      <th>B_mentions_received</th>\n",
       "      <th>B_retweets_received</th>\n",
       "      <th>B_mentions_sent</th>\n",
       "      <th>B_retweets_sent</th>\n",
       "      <th>B_posts</th>\n",
       "      <th>B_network_feature_1</th>\n",
       "      <th>B_network_feature_2</th>\n",
       "      <th>B_network_feature_3</th>\n",
       "    </tr>\n",
       "  </thead>\n",
       "  <tbody>\n",
       "    <tr>\n",
       "      <th>0</th>\n",
       "      <td>0</td>\n",
       "      <td>228</td>\n",
       "      <td>302</td>\n",
       "      <td>3</td>\n",
       "      <td>0.583979</td>\n",
       "      <td>0.100503</td>\n",
       "      <td>0.100503</td>\n",
       "      <td>0.100503</td>\n",
       "      <td>0.362150</td>\n",
       "      <td>2</td>\n",
       "      <td>...</td>\n",
       "      <td>29808</td>\n",
       "      <td>1689</td>\n",
       "      <td>15.430498</td>\n",
       "      <td>3.984029</td>\n",
       "      <td>8.204331</td>\n",
       "      <td>0.332423</td>\n",
       "      <td>6.988815</td>\n",
       "      <td>66</td>\n",
       "      <td>75.530303</td>\n",
       "      <td>1916.893939</td>\n",
       "    </tr>\n",
       "    <tr>\n",
       "      <th>1</th>\n",
       "      <td>0</td>\n",
       "      <td>21591</td>\n",
       "      <td>1179</td>\n",
       "      <td>228</td>\n",
       "      <td>90.456506</td>\n",
       "      <td>25.798292</td>\n",
       "      <td>5.709329</td>\n",
       "      <td>1.111159</td>\n",
       "      <td>5.176620</td>\n",
       "      <td>369</td>\n",
       "      <td>...</td>\n",
       "      <td>848</td>\n",
       "      <td>1610</td>\n",
       "      <td>40.495021</td>\n",
       "      <td>8.943607</td>\n",
       "      <td>3.227677</td>\n",
       "      <td>0.564343</td>\n",
       "      <td>1.070321</td>\n",
       "      <td>163</td>\n",
       "      <td>132.030675</td>\n",
       "      <td>2931.515337</td>\n",
       "    </tr>\n",
       "    <tr>\n",
       "      <th>2</th>\n",
       "      <td>0</td>\n",
       "      <td>7310</td>\n",
       "      <td>1215</td>\n",
       "      <td>101</td>\n",
       "      <td>25.503644</td>\n",
       "      <td>9.556347</td>\n",
       "      <td>5.361519</td>\n",
       "      <td>0.591206</td>\n",
       "      <td>3.589718</td>\n",
       "      <td>95</td>\n",
       "      <td>...</td>\n",
       "      <td>482</td>\n",
       "      <td>206</td>\n",
       "      <td>0.734696</td>\n",
       "      <td>0.354379</td>\n",
       "      <td>0.603202</td>\n",
       "      <td>0.100503</td>\n",
       "      <td>0.603202</td>\n",
       "      <td>3</td>\n",
       "      <td>10.333333</td>\n",
       "      <td>277.333333</td>\n",
       "    </tr>\n",
       "    <tr>\n",
       "      <th>3</th>\n",
       "      <td>0</td>\n",
       "      <td>20</td>\n",
       "      <td>7</td>\n",
       "      <td>2</td>\n",
       "      <td>7.690824</td>\n",
       "      <td>0.277306</td>\n",
       "      <td>1.331508</td>\n",
       "      <td>0.100503</td>\n",
       "      <td>2.830627</td>\n",
       "      <td>6</td>\n",
       "      <td>...</td>\n",
       "      <td>17637</td>\n",
       "      <td>278</td>\n",
       "      <td>572.874856</td>\n",
       "      <td>390.293681</td>\n",
       "      <td>27.552040</td>\n",
       "      <td>7.167557</td>\n",
       "      <td>32.101906</td>\n",
       "      <td>1762</td>\n",
       "      <td>23.469296</td>\n",
       "      <td>1395.845634</td>\n",
       "    </tr>\n",
       "    <tr>\n",
       "      <th>4</th>\n",
       "      <td>1</td>\n",
       "      <td>45589</td>\n",
       "      <td>862</td>\n",
       "      <td>2641</td>\n",
       "      <td>148.854279</td>\n",
       "      <td>36.998884</td>\n",
       "      <td>27.881768</td>\n",
       "      <td>3.333492</td>\n",
       "      <td>23.861282</td>\n",
       "      <td>551</td>\n",
       "      <td>...</td>\n",
       "      <td>1711</td>\n",
       "      <td>181</td>\n",
       "      <td>21.601866</td>\n",
       "      <td>3.581661</td>\n",
       "      <td>6.764657</td>\n",
       "      <td>1.119727</td>\n",
       "      <td>4.563246</td>\n",
       "      <td>85</td>\n",
       "      <td>48.500000</td>\n",
       "      <td>1993.627907</td>\n",
       "    </tr>\n",
       "  </tbody>\n",
       "</table>\n",
       "<p>5 rows × 23 columns</p>\n",
       "</div>"
      ],
      "text/plain": [
       "   Choice  A_follower_count  A_following_count  A_listed_count  \\\n",
       "0       0               228                302               3   \n",
       "1       0             21591               1179             228   \n",
       "2       0              7310               1215             101   \n",
       "3       0                20                  7               2   \n",
       "4       1             45589                862            2641   \n",
       "\n",
       "   A_mentions_received  A_retweets_received  A_mentions_sent  A_retweets_sent  \\\n",
       "0             0.583979             0.100503         0.100503         0.100503   \n",
       "1            90.456506            25.798292         5.709329         1.111159   \n",
       "2            25.503644             9.556347         5.361519         0.591206   \n",
       "3             7.690824             0.277306         1.331508         0.100503   \n",
       "4           148.854279            36.998884        27.881768         3.333492   \n",
       "\n",
       "     A_posts  A_network_feature_1  ...  B_following_count  B_listed_count  \\\n",
       "0   0.362150                    2  ...              29808            1689   \n",
       "1   5.176620                  369  ...                848            1610   \n",
       "2   3.589718                   95  ...                482             206   \n",
       "3   2.830627                    6  ...              17637             278   \n",
       "4  23.861282                  551  ...               1711             181   \n",
       "\n",
       "   B_mentions_received  B_retweets_received  B_mentions_sent  B_retweets_sent  \\\n",
       "0            15.430498             3.984029         8.204331         0.332423   \n",
       "1            40.495021             8.943607         3.227677         0.564343   \n",
       "2             0.734696             0.354379         0.603202         0.100503   \n",
       "3           572.874856           390.293681        27.552040         7.167557   \n",
       "4            21.601866             3.581661         6.764657         1.119727   \n",
       "\n",
       "     B_posts  B_network_feature_1  B_network_feature_2  B_network_feature_3  \n",
       "0   6.988815                   66            75.530303          1916.893939  \n",
       "1   1.070321                  163           132.030675          2931.515337  \n",
       "2   0.603202                    3            10.333333           277.333333  \n",
       "3  32.101906                 1762            23.469296          1395.845634  \n",
       "4   4.563246                   85            48.500000          1993.627907  \n",
       "\n",
       "[5 rows x 23 columns]"
      ]
     },
     "execution_count": 2,
     "metadata": {},
     "output_type": "execute_result"
    }
   ],
   "source": [
    "train = pd.read_csv('train.csv')\n",
    "train.info()\n",
    "train.head()"
   ]
  },
  {
   "cell_type": "code",
   "execution_count": 3,
   "id": "GoLSKUKmrY7Y",
   "metadata": {
    "id": "GoLSKUKmrY7Y"
   },
   "outputs": [],
   "source": [
    "df_train = train.copy()\n",
    "\n",
    "A_cols = [col for col in df_train.columns if col[0] == 'A']\n",
    "B_cols = [col for col in df_train.columns if col[0] == 'B']\n",
    "\n",
    "# transformation of variables as A-B (diff_) and A/B (ratio_)\n",
    "for i in range(len(A_cols)):\n",
    "    A_col = A_cols[i]\n",
    "    B_col = B_cols[B_cols.index('B'+A_col[1:])]\n",
    "    new_col_diff = A_col[2:]+'_diff'\n",
    "    new_col_ratio = A_col[2:]+'_ratio'\n",
    "    \n",
    "    df_train[new_col_diff] = df_train[A_col] - df_train[B_col]\n",
    "    df_train[new_col_ratio] = df_train[A_col] / df_train[B_col]\n",
    "\n",
    "# drop the original A, B columns\n",
    "df_train = df_train.drop(columns=A_cols + B_cols)\n",
    "\n",
    "# feature selection based on correlation\n",
    "threshold = 0.6\n",
    "corr_matrix = df_train.drop(columns='Choice').corr().abs()\n",
    "\n",
    "upper = corr_matrix.where(np.triu(np.ones(corr_matrix.shape), k=1).astype(bool))\n",
    "to_drop = [column for column in upper.columns if any(upper[column] >= threshold)]\n",
    "\n",
    "df_train = df_train.drop(columns=to_drop)"
   ]
  },
  {
   "cell_type": "code",
   "execution_count": 4,
   "id": "t0DpOxmRrY96",
   "metadata": {
    "colab": {
     "base_uri": "https://localhost:8080/"
    },
    "id": "t0DpOxmRrY96",
    "outputId": "4da012fb-36df-4a07-a567-8e3d173889fc"
   },
   "outputs": [
    {
     "name": "stdout",
     "output_type": "stream",
     "text": [
      "DROPPED COLUMNS:\n",
      " ['listed_count_diff', 'listed_count_ratio', 'mentions_received_diff', 'network_feature_1_diff', 'network_feature_1_ratio', 'retweets_received_diff', 'retweets_received_ratio', 'retweets_sent_ratio']\n",
      "\n",
      "KEPT COLUMNS:\n",
      " ['Choice', 'follower_count_diff', 'follower_count_ratio', 'following_count_diff', 'following_count_ratio', 'mentions_received_ratio', 'mentions_sent_diff', 'mentions_sent_ratio', 'network_feature_2_diff', 'network_feature_2_ratio', 'network_feature_3_diff', 'network_feature_3_ratio', 'posts_diff', 'posts_ratio', 'retweets_sent_diff']\n"
     ]
    }
   ],
   "source": [
    "# dropped and kept columns with a corr_matrix value larger than the threshold\n",
    "print(\"DROPPED COLUMNS:\\n\",sorted(to_drop))\n",
    "print()\n",
    "print(\"KEPT COLUMNS:\\n\",sorted(df_train.columns.to_list()))"
   ]
  },
  {
   "cell_type": "code",
   "execution_count": 5,
   "id": "cEQXp9LerZAM",
   "metadata": {
    "colab": {
     "base_uri": "https://localhost:8080/",
     "height": 270
    },
    "id": "cEQXp9LerZAM",
    "outputId": "d8b00733-79fa-4230-db91-f95659d90aef"
   },
   "outputs": [
    {
     "data": {
      "text/html": [
       "<div>\n",
       "<style scoped>\n",
       "    .dataframe tbody tr th:only-of-type {\n",
       "        vertical-align: middle;\n",
       "    }\n",
       "\n",
       "    .dataframe tbody tr th {\n",
       "        vertical-align: top;\n",
       "    }\n",
       "\n",
       "    .dataframe thead th {\n",
       "        text-align: right;\n",
       "    }\n",
       "</style>\n",
       "<table border=\"1\" class=\"dataframe\">\n",
       "  <thead>\n",
       "    <tr style=\"text-align: right;\">\n",
       "      <th></th>\n",
       "      <th>Choice</th>\n",
       "      <th>follower_count_diff</th>\n",
       "      <th>follower_count_ratio</th>\n",
       "      <th>following_count_diff</th>\n",
       "      <th>following_count_ratio</th>\n",
       "      <th>mentions_received_ratio</th>\n",
       "      <th>mentions_sent_diff</th>\n",
       "      <th>mentions_sent_ratio</th>\n",
       "      <th>retweets_sent_diff</th>\n",
       "      <th>posts_diff</th>\n",
       "      <th>posts_ratio</th>\n",
       "      <th>network_feature_2_diff</th>\n",
       "      <th>network_feature_2_ratio</th>\n",
       "      <th>network_feature_3_diff</th>\n",
       "      <th>network_feature_3_ratio</th>\n",
       "    </tr>\n",
       "  </thead>\n",
       "  <tbody>\n",
       "    <tr>\n",
       "      <th>0</th>\n",
       "      <td>0</td>\n",
       "      <td>0.507400</td>\n",
       "      <td>1.385615e-08</td>\n",
       "      <td>0.347553</td>\n",
       "      <td>0.0</td>\n",
       "      <td>2.190485e-08</td>\n",
       "      <td>0.447178</td>\n",
       "      <td>0.000014</td>\n",
       "      <td>0.496772</td>\n",
       "      <td>0.482830</td>\n",
       "      <td>0.000027</td>\n",
       "      <td>0.659024</td>\n",
       "      <td>0.0</td>\n",
       "      <td>0.386341</td>\n",
       "      <td>0.0</td>\n",
       "    </tr>\n",
       "    <tr>\n",
       "      <th>1</th>\n",
       "      <td>0</td>\n",
       "      <td>0.507632</td>\n",
       "      <td>1.152524e-06</td>\n",
       "      <td>0.363888</td>\n",
       "      <td>0.0</td>\n",
       "      <td>1.292939e-06</td>\n",
       "      <td>0.516176</td>\n",
       "      <td>0.002313</td>\n",
       "      <td>0.521014</td>\n",
       "      <td>0.510640</td>\n",
       "      <td>0.002517</td>\n",
       "      <td>0.588358</td>\n",
       "      <td>0.0</td>\n",
       "      <td>0.335476</td>\n",
       "      <td>0.0</td>\n",
       "    </tr>\n",
       "    <tr>\n",
       "      <th>2</th>\n",
       "      <td>0</td>\n",
       "      <td>0.507932</td>\n",
       "      <td>4.229814e-06</td>\n",
       "      <td>0.364108</td>\n",
       "      <td>0.0</td>\n",
       "      <td>2.009255e-05</td>\n",
       "      <td>0.531015</td>\n",
       "      <td>0.011629</td>\n",
       "      <td>0.519267</td>\n",
       "      <td>0.507738</td>\n",
       "      <td>0.003098</td>\n",
       "      <td>0.647840</td>\n",
       "      <td>0.0</td>\n",
       "      <td>0.369221</td>\n",
       "      <td>0.0</td>\n",
       "    </tr>\n",
       "    <tr>\n",
       "      <th>3</th>\n",
       "      <td>0</td>\n",
       "      <td>0.507606</td>\n",
       "      <td>2.133410e-09</td>\n",
       "      <td>0.354055</td>\n",
       "      <td>0.0</td>\n",
       "      <td>7.769693e-09</td>\n",
       "      <td>0.329091</td>\n",
       "      <td>0.000062</td>\n",
       "      <td>0.283996</td>\n",
       "      <td>0.424157</td>\n",
       "      <td>0.000046</td>\n",
       "      <td>0.620181</td>\n",
       "      <td>0.0</td>\n",
       "      <td>0.336865</td>\n",
       "      <td>0.0</td>\n",
       "    </tr>\n",
       "    <tr>\n",
       "      <th>4</th>\n",
       "      <td>1</td>\n",
       "      <td>0.508414</td>\n",
       "      <td>1.264841e-05</td>\n",
       "      <td>0.363242</td>\n",
       "      <td>0.0</td>\n",
       "      <td>3.988505e-06</td>\n",
       "      <td>0.637644</td>\n",
       "      <td>0.005391</td>\n",
       "      <td>0.572905</td>\n",
       "      <td>0.550002</td>\n",
       "      <td>0.002722</td>\n",
       "      <td>0.654856</td>\n",
       "      <td>0.0</td>\n",
       "      <td>0.346725</td>\n",
       "      <td>0.0</td>\n",
       "    </tr>\n",
       "  </tbody>\n",
       "</table>\n",
       "</div>"
      ],
      "text/plain": [
       "   Choice  follower_count_diff  follower_count_ratio  following_count_diff  \\\n",
       "0       0             0.507400          1.385615e-08              0.347553   \n",
       "1       0             0.507632          1.152524e-06              0.363888   \n",
       "2       0             0.507932          4.229814e-06              0.364108   \n",
       "3       0             0.507606          2.133410e-09              0.354055   \n",
       "4       1             0.508414          1.264841e-05              0.363242   \n",
       "\n",
       "   following_count_ratio  mentions_received_ratio  mentions_sent_diff  \\\n",
       "0                    0.0             2.190485e-08            0.447178   \n",
       "1                    0.0             1.292939e-06            0.516176   \n",
       "2                    0.0             2.009255e-05            0.531015   \n",
       "3                    0.0             7.769693e-09            0.329091   \n",
       "4                    0.0             3.988505e-06            0.637644   \n",
       "\n",
       "   mentions_sent_ratio  retweets_sent_diff  posts_diff  posts_ratio  \\\n",
       "0             0.000014            0.496772    0.482830     0.000027   \n",
       "1             0.002313            0.521014    0.510640     0.002517   \n",
       "2             0.011629            0.519267    0.507738     0.003098   \n",
       "3             0.000062            0.283996    0.424157     0.000046   \n",
       "4             0.005391            0.572905    0.550002     0.002722   \n",
       "\n",
       "   network_feature_2_diff  network_feature_2_ratio  network_feature_3_diff  \\\n",
       "0                0.659024                      0.0                0.386341   \n",
       "1                0.588358                      0.0                0.335476   \n",
       "2                0.647840                      0.0                0.369221   \n",
       "3                0.620181                      0.0                0.336865   \n",
       "4                0.654856                      0.0                0.346725   \n",
       "\n",
       "   network_feature_3_ratio  \n",
       "0                      0.0  \n",
       "1                      0.0  \n",
       "2                      0.0  \n",
       "3                      0.0  \n",
       "4                      0.0  "
      ]
     },
     "execution_count": 5,
     "metadata": {},
     "output_type": "execute_result"
    }
   ],
   "source": [
    "# normalize data\n",
    "for col in df_train.columns.to_list()[1:]:\n",
    "    miN, maX = df_train[col].min(), df_train[col].max()\n",
    "    df_train[col] = df_train[col].apply(lambda x: (x - miN)/(maX - miN))\n",
    "\n",
    "# impute null values with mean\n",
    "df_train = df_train.replace([np.inf, -np.inf], np.nan)\n",
    "for col in df_train.columns:\n",
    "    df_train[col].fillna(df_train[col].mean(), inplace=True) \n",
    "\n",
    "# all data values are between 0 and 1\n",
    "df_train.head()"
   ]
  },
  {
   "cell_type": "code",
   "execution_count": 6,
   "id": "gg9dV870rZCr",
   "metadata": {
    "id": "gg9dV870rZCr"
   },
   "outputs": [],
   "source": [
    "from sklearn.model_selection import train_test_split, GridSearchCV\n",
    "from sklearn.metrics import confusion_matrix, accuracy_score, roc_auc_score\n",
    "from sklearn.ensemble import RandomForestClassifier\n",
    "\n",
    "from sklearn.linear_model import LogisticRegression\n",
    "from sklearn import svm\n",
    "import statsmodels.api as sm"
   ]
  },
  {
   "cell_type": "code",
   "execution_count": 7,
   "id": "x_jJsxxVrZE8",
   "metadata": {
    "colab": {
     "base_uri": "https://localhost:8080/"
    },
    "id": "x_jJsxxVrZE8",
    "outputId": "8bbcccb4-d5d6-43ba-9124-7c83493c1677"
   },
   "outputs": [
    {
     "data": {
      "text/plain": [
       "1    2802\n",
       "0    2698\n",
       "Name: Choice, dtype: int64"
      ]
     },
     "execution_count": 7,
     "metadata": {},
     "output_type": "execute_result"
    }
   ],
   "source": [
    "df_train.Choice.value_counts()  # check imbalance"
   ]
  },
  {
   "cell_type": "code",
   "execution_count": 8,
   "id": "kl71klUTrZHF",
   "metadata": {
    "id": "kl71klUTrZHF"
   },
   "outputs": [],
   "source": [
    "X = df_train.drop(columns='Choice')\n",
    "y = df_train['Choice']\n",
    "\n",
    "# 80-20 train-test split\n",
    "X_train, X_test, y_train, y_test = train_test_split(X, y, test_size=0.2, random_state=42)"
   ]
  },
  {
   "cell_type": "code",
   "execution_count": 9,
   "id": "iwGLlM7BrZJP",
   "metadata": {
    "colab": {
     "base_uri": "https://localhost:8080/"
    },
    "id": "iwGLlM7BrZJP",
    "outputId": "360d55a5-f04e-4026-d2d1-89f7ad6dd0e0"
   },
   "outputs": [
    {
     "name": "stdout",
     "output_type": "stream",
     "text": [
      "accuracy: 0.6618181818181819, roc_auc: 0.7150513075140681\n"
     ]
    },
    {
     "data": {
      "text/plain": [
       "array([[374, 156],\n",
       "       [216, 354]])"
      ]
     },
     "execution_count": 9,
     "metadata": {},
     "output_type": "execute_result"
    }
   ],
   "source": [
    "# svm\n",
    "svm_clf = svm.SVC(probability=True, random_state=42).fit(X_train,y_train)\n",
    "y_pred = svm_clf.predict(X_test)\n",
    "y_pred_prob = svm_clf.predict_proba(X_test)[:,1]\n",
    "cm0 = confusion_matrix(y_test, y_pred)\n",
    "print(\"accuracy: {}, roc_auc: {}\".format(\\\n",
    "                                         accuracy_score(y_true=y_test, y_pred=y_pred), \\\n",
    "                                         roc_auc_score(y_true=y_test, y_score=y_pred_prob)))\n",
    "cm0"
   ]
  },
  {
   "cell_type": "code",
   "execution_count": 10,
   "id": "bxasaYpxrsMV",
   "metadata": {
    "colab": {
     "base_uri": "https://localhost:8080/"
    },
    "id": "bxasaYpxrsMV",
    "outputId": "6351c4a2-0f66-4a57-ca31-466a0fe73e44"
   },
   "outputs": [
    {
     "name": "stdout",
     "output_type": "stream",
     "text": [
      "Best parameters: {'max_features': 1, 'n_estimators': 150}\n",
      "accuracy: 0.7463636363636363, roc_auc: 0.835950016550811\n"
     ]
    },
    {
     "data": {
      "text/plain": [
       "array([[410, 120],\n",
       "       [159, 411]])"
      ]
     },
     "execution_count": 10,
     "metadata": {},
     "output_type": "execute_result"
    }
   ],
   "source": [
    "# Random Forest\n",
    "param_grid = {\"n_estimators\": [50,100,150,200], \"max_features\": [1,4,8,10]}\n",
    "grid_search = GridSearchCV(RandomForestClassifier(random_state=42), param_grid).fit(X_train, y_train)\n",
    "print('Best parameters:', grid_search.best_params_, end='\\n')\n",
    "\n",
    "clf1 = RandomForestClassifier(random_state=42).set_params(**grid_search.best_params_).fit(X_train, y_train)\n",
    "\n",
    "y_pred = clf1.predict(X_test)\n",
    "y_pred_prob = clf1.predict_proba(X_test)[:,1]\n",
    "\n",
    "cm1 = confusion_matrix(y_test, y_pred)\n",
    "print(\"accuracy: {}, roc_auc: {}\".format(\\\n",
    "                                         accuracy_score(y_true=y_test, y_pred=y_pred), \\\n",
    "                                         roc_auc_score(y_true=y_test, y_score=y_pred_prob)))\n",
    "cm1"
   ]
  },
  {
   "cell_type": "code",
   "execution_count": 11,
   "id": "9Yx9vrJCtonZ",
   "metadata": {
    "colab": {
     "base_uri": "https://localhost:8080/"
    },
    "id": "9Yx9vrJCtonZ",
    "outputId": "c4556668-a19b-48e0-b2e9-24564e212aff"
   },
   "outputs": [
    {
     "data": {
      "text/plain": [
       "follower_count_diff        0.149105\n",
       "follower_count_ratio       0.140780\n",
       "mentions_received_ratio    0.110355\n",
       "posts_diff                 0.083260\n",
       "posts_ratio                0.080398\n",
       "mentions_sent_ratio        0.078632\n",
       "mentions_sent_diff         0.075734\n",
       "network_feature_3_diff     0.072208\n",
       "following_count_diff       0.071476\n",
       "retweets_sent_diff         0.069465\n",
       "network_feature_2_diff     0.068588\n",
       "following_count_ratio      0.000000\n",
       "network_feature_2_ratio    0.000000\n",
       "network_feature_3_ratio    0.000000\n",
       "dtype: float64"
      ]
     },
     "execution_count": 11,
     "metadata": {},
     "output_type": "execute_result"
    }
   ],
   "source": [
    "feature_importance = pd.Series(clf1.feature_importances_, index=X_train.columns.to_list()).sort_values(ascending=False)\n",
    "feature_importance"
   ]
  },
  {
   "cell_type": "code",
   "execution_count": 12,
   "id": "HX9VHguSrsO8",
   "metadata": {
    "colab": {
     "base_uri": "https://localhost:8080/",
     "height": 394
    },
    "id": "HX9VHguSrsO8",
    "outputId": "4176fbee-4d0e-4bc6-91bc-913dfbf99c36"
   },
   "outputs": [
    {
     "data": {
      "image/png": "[encoded data removed]",
      "text/plain": [
       "<Figure size 432x288 with 1 Axes>"
      ]
     },
     "metadata": {
      "needs_background": "light"
     },
     "output_type": "display_data"
    }
   ],
   "source": [
    "plt.bar(x=feature_importance.index.to_numpy(), height=feature_importance, color='#087E8B')\n",
    "plt.title(\"Gini Importance from Random Forest\")\n",
    "plt.xticks(rotation=90)\n",
    "plt.show()"
   ]
  },
  {
   "cell_type": "code",
   "execution_count": 13,
   "id": "QtOHi1nersRf",
   "metadata": {
    "colab": {
     "base_uri": "https://localhost:8080/"
    },
    "id": "QtOHi1nersRf",
    "outputId": "607aff11-dedc-4eb1-c42e-b8bd4d28026e"
   },
   "outputs": [
    {
     "data": {
      "text/plain": [
       "['follower_count_diff',\n",
       " 'follower_count_ratio',\n",
       " 'mentions_received_ratio',\n",
       " 'posts_diff',\n",
       " 'posts_ratio',\n",
       " 'mentions_sent_ratio',\n",
       " 'mentions_sent_diff',\n",
       " 'network_feature_3_diff',\n",
       " 'following_count_diff',\n",
       " 'retweets_sent_diff',\n",
       " 'network_feature_2_diff']"
      ]
     },
     "execution_count": 13,
     "metadata": {},
     "output_type": "execute_result"
    }
   ],
   "source": [
    "# refine the random forest model by dropping features that have 0 gini importance\n",
    "features_selected = list(feature_importance[feature_importance > 0].index)\n",
    "features_selected"
   ]
  },
  {
   "cell_type": "code",
   "execution_count": 14,
   "id": "D8sxOatArz3A",
   "metadata": {
    "colab": {
     "base_uri": "https://localhost:8080/"
    },
    "id": "D8sxOatArz3A",
    "outputId": "9a4d8fd3-852a-4c2e-ccd2-63bf845524fe"
   },
   "outputs": [
    {
     "name": "stdout",
     "output_type": "stream",
     "text": [
      "accuracy: 0.7518181818181818\n",
      "roc_auc: 0.835314465408805\n"
     ]
    },
    {
     "data": {
      "text/plain": [
       "array([[408, 122],\n",
       "       [151, 419]])"
      ]
     },
     "execution_count": 14,
     "metadata": {},
     "output_type": "execute_result"
    }
   ],
   "source": [
    "# best random forest model with selected features\n",
    "#### this will be the model we choose to use later ####\n",
    "new_X_train, new_X_test = X_train[features_selected], X_test[features_selected]\n",
    "\n",
    "clf_rf = RandomForestClassifier(random_state=42).fit(new_X_train, y_train)\n",
    "y_pred = clf_rf.predict(new_X_test)\n",
    "y_pred_prob = clf_rf.predict_proba(new_X_test)[:,1]\n",
    "print(\"accuracy:\", accuracy_score(y_true=y_test, y_pred=y_pred))\n",
    "print(\"roc_auc:\", roc_auc_score(y_test, y_pred_prob))\n",
    "confusion_matrix(y_test, y_pred)"
   ]
  },
  {
   "cell_type": "code",
   "execution_count": 15,
   "id": "vT76mUqBrz5c",
   "metadata": {
    "colab": {
     "base_uri": "https://localhost:8080/",
     "height": 394
    },
    "id": "vT76mUqBrz5c",
    "outputId": "2d8e6a75-050b-4dee-92a6-5644b43c98a1"
   },
   "outputs": [
    {
     "data": {
      "image/png": "[encoded data removed]",
      "text/plain": [
       "<Figure size 432x288 with 1 Axes>"
      ]
     },
     "metadata": {
      "needs_background": "light"
     },
     "output_type": "display_data"
    }
   ],
   "source": [
    "new_feature_importance = pd.Series(clf_rf.feature_importances_, index=new_X_train.columns.to_list()).sort_values(ascending=False)\n",
    "plt.bar(x=new_feature_importance.index.to_numpy(), height=new_feature_importance, color='#087E8B')\n",
    "plt.title(\"Gini Importance from Random Forest\")\n",
    "plt.xticks(rotation=90)\n",
    "plt.show()"
   ]
  },
  {
   "cell_type": "code",
   "execution_count": 16,
   "id": "nKyWZrElrz77",
   "metadata": {
    "colab": {
     "base_uri": "https://localhost:8080/"
    },
    "id": "nKyWZrElrz77",
    "outputId": "b8749ae9-b77e-4075-c539-2d86f744b6e0"
   },
   "outputs": [
    {
     "name": "stdout",
     "output_type": "stream",
     "text": [
      "accuracy: 0.6581818181818182, roc_auc: 0.7101456471367097\n"
     ]
    },
    {
     "data": {
      "text/plain": [
       "array([[362, 168],\n",
       "       [208, 362]])"
      ]
     },
     "execution_count": 16,
     "metadata": {},
     "output_type": "execute_result"
    }
   ],
   "source": [
    "# Logistic Regression\n",
    "clf2 = LogisticRegression(random_state=42).fit(new_X_train, y_train)\n",
    "y_pred = clf2.predict(new_X_test)\n",
    "y_pred_prob = clf2.predict_proba(new_X_test)[:,1]\n",
    "\n",
    "cm2 = confusion_matrix(y_test, y_pred)\n",
    "print(\"accuracy: {}, roc_auc: {}\".format(\\\n",
    "                                         accuracy_score(y_true=y_test, y_pred=y_pred), \\\n",
    "                                         roc_auc_score(y_true=y_test, y_score=y_pred_prob)))\n",
    "cm2"
   ]
  },
  {
   "cell_type": "code",
   "execution_count": 17,
   "id": "ZWuhE6hbrz-d",
   "metadata": {
    "colab": {
     "base_uri": "https://localhost:8080/"
    },
    "id": "ZWuhE6hbrz-d",
    "outputId": "21ea5e0f-f895-4ca2-f361-49e588a97228"
   },
   "outputs": [
    {
     "data": {
      "text/plain": [
       "follower_count_diff        8.343134\n",
       "mentions_sent_ratio        4.145959\n",
       "retweets_sent_diff         4.062250\n",
       "network_feature_2_diff     2.527109\n",
       "network_feature_3_diff     2.477096\n",
       "following_count_diff       2.257648\n",
       "posts_ratio                2.010914\n",
       "follower_count_ratio       1.070238\n",
       "mentions_received_ratio    0.855585\n",
       "mentions_sent_diff         0.851713\n",
       "posts_diff                 0.778549\n",
       "dtype: float64"
      ]
     },
     "execution_count": 17,
     "metadata": {},
     "output_type": "execute_result"
    }
   ],
   "source": [
    "log_importance = pd.Series(clf2.coef_[0], index=features_selected).sort_values(ascending=False)\n",
    "log_importance"
   ]
  },
  {
   "cell_type": "code",
   "execution_count": 18,
   "id": "rEFgwIrWr6tj",
   "metadata": {
    "colab": {
     "base_uri": "https://localhost:8080/",
     "height": 394
    },
    "id": "rEFgwIrWr6tj",
    "outputId": "30b8c306-b081-47bc-8c65-d416fcd87c08"
   },
   "outputs": [
    {
     "data": {
      "image/png": "[encoded data removed]",
      "text/plain": [
       "<Figure size 432x288 with 1 Axes>"
      ]
     },
     "metadata": {
      "needs_background": "light"
     },
     "output_type": "display_data"
    }
   ],
   "source": [
    "plt.bar(x=log_importance.index.to_numpy(), height=log_importance, color='#087E8B')\n",
    "plt.title(\"Feature Importance from Logistic Regression Coefficients\")\n",
    "plt.xticks(rotation=90)\n",
    "plt.show()"
   ]
  },
  {
   "cell_type": "markdown",
   "id": "iHEyIqDtr_Jp",
   "metadata": {
    "id": "iHEyIqDtr_Jp"
   },
   "source": [
    "## Part 1.1 answer\n",
    "\n",
    "Our best model is a Random Forest classifier.\n",
    "Confusion matrix of our best model:\n",
    "\n",
    "||0|1|\n",
    "|---|---|---|\n",
    "|0|408|122|\n",
    "|1|151|419|\n",
    "\n",
    "In our best model (Random Forest), the top 3 best predictors are the difference and ratio of `follower_count`, and the ratio of `mentions_received`.\n",
    "\n",
    "In our logistic regression model (with an accuracy of 65.8%), the top 3 best predictors are the difference in `follower_count`, ratio of `mentions_sent`, and difference in `retweets_sent`.\n",
    "\n",
    "The results from two models imply that the absolute value of a user's follwer number is very important in identifying an influencer. If a business would like to optimize their capital in marketing through influencers, they should choose influencers mostly by their follower number and mentions. "
   ]
  },
  {
   "cell_type": "markdown",
   "id": "-9vToP4csDPL",
   "metadata": {
    "id": "-9vToP4csDPL"
   },
   "source": [
    "# 1.2 Calculate the financial value of your model\n",
    "+ non-influencer tweets, no benefit\n",
    "+ influencer tweets once, 0.01\\% chance that followers will buy one unit\n",
    "+ influencer tweets twice, buying probability 0.015\\%\n",
    "\n",
    "profit margin = \\$10 per unit, one customer can buy only one unit \n",
    "\n",
    "+ Without analytics, offers \\$5 to each person (A and B) to tweet once. \n",
    "+ With analytics, offers \\$10 to influencers by the model to send two tweets each \n",
    "+ non-influencer not selected/paid\n",
    "\n",
    "What is the lift in expected net profit from using your analytic model (versus not using analytics)? Show all calculations. \n",
    "\n",
    "What is the lift in net profit from using a perfect analytic model (versus not using analytics)?"
   ]
  },
  {
   "cell_type": "code",
   "execution_count": 19,
   "id": "pV7KHQ_Ur6yn",
   "metadata": {
    "id": "pV7KHQ_Ur6yn"
   },
   "outputs": [],
   "source": [
    "cols = ['Choice','A_follower_count','B_follower_count']\n",
    "train2 = train.copy()[cols]"
   ]
  },
  {
   "cell_type": "code",
   "execution_count": 20,
   "id": "L4ABMAl0r61I",
   "metadata": {
    "colab": {
     "base_uri": "https://localhost:8080/"
    },
    "id": "L4ABMAl0r61I",
    "outputId": "db806924-94b9-46db-8b86-a8f0146ba975"
   },
   "outputs": [
    {
     "name": "stdout",
     "output_type": "stream",
     "text": [
      "profit without analytics: $5321568.59\n"
     ]
    }
   ],
   "source": [
    "### without analytics\n",
    "# in each observation, \n",
    "# cost = $5 * 2 = $10\n",
    "# if A is influencer, sale = A_follower_count * 10 * 0.01%\n",
    "# if B is influencer, sale = B_follower_count * 10 * 0.01%\n",
    "\n",
    "profit_no = float(np.sum(np.where(train2.Choice == 1, \\\n",
    "                                  train2.A_follower_count * 10 * 0.0001 - 5*2, \\\n",
    "                                  train2.B_follower_count * 10 * 0.0001 - 5*2)))\n",
    "print(\"profit without analytics: ${:.2f}\".format(profit_no))"
   ]
  },
  {
   "cell_type": "markdown",
   "id": "NvedxN_WsJq3",
   "metadata": {
    "id": "NvedxN_WsJq3"
   },
   "source": [
    "We used the random forest model `clf_rf` in this prediction"
   ]
  },
  {
   "cell_type": "code",
   "execution_count": 21,
   "id": "tHC_zDyGrsUE",
   "metadata": {
    "colab": {
     "base_uri": "https://localhost:8080/"
    },
    "id": "tHC_zDyGrsUE",
    "outputId": "63b2b599-01a1-4b45-96f4-503572d26a8b"
   },
   "outputs": [
    {
     "name": "stdout",
     "output_type": "stream",
     "text": [
      "profit with our analytics model: $7785920.20\n",
      "Lift: 1.463 (46.31% increase)\n"
     ]
    }
   ],
   "source": [
    "### with OUR analysis\n",
    "# get a predicted column of 'Choice' using our model using both test and train set\n",
    "new_train = pd.concat([new_X_train, new_X_test],axis=0)\n",
    "new_train['predicted'] = clf_rf.predict(new_train)\n",
    "\n",
    "# new_train = pd.concat([X_train, X_test],axis=0)\n",
    "# new_train['predicted'] = clf1.predict(new_train)\n",
    "\n",
    "# add the original labels\n",
    "new_train['actual'] = pd.concat([y_train, y_test], axis=0)\n",
    "\n",
    "# merge the data above with the original training data and keep only related features\n",
    "cols = ['actual','predicted','A_follower_count','B_follower_count']\n",
    "train3 = train2.merge(new_train, left_index=True, right_index=True)[cols]\n",
    "train3['correct_prediction'] = np.where(train3.actual == train3.predicted, 1, 0)\n",
    "\n",
    "# train3 will be the table used for this analysis\n",
    "# cost for each observaiton is 10\n",
    "# if the prediction is correct, sale = that user's follower count * 10 * 0.015%. Subtract 10 to get profit.\n",
    "# if the prediction is wrong, sale = 0, profit = -10\n",
    "\n",
    "# profit from correctly predicted A as the influencer\n",
    "profit_A = float(np.sum(np.where((train3.correct_prediction == 1) & (train3.predicted == 1), \\\n",
    "                                 train3.A_follower_count*0.00015*10-10, -10)))\n",
    "# profit from correctly predicted B as the influencer\n",
    "profit_B = float(np.sum(np.where((train3.correct_prediction == 1) & (train3.predicted == 0), \\\n",
    "                                 train3.B_follower_count*0.00015*10-10, -10)))\n",
    "profit_model = profit_A + profit_B\n",
    "lift_model = (profit_model - profit_no)/profit_no\n",
    "print(\"profit with our analytics model: ${:.2f}\".format(profit_model))\n",
    "print(\"Lift: {:.3f} ({:.2%} increase)\".format(1+lift_model, lift_model))"
   ]
  },
  {
   "cell_type": "code",
   "execution_count": 22,
   "id": "du78IM3-sPtW",
   "metadata": {
    "colab": {
     "base_uri": "https://localhost:8080/"
    },
    "id": "du78IM3-sPtW",
    "outputId": "94549ce5-0eb1-45e8-a5b7-edb198ee6bbf"
   },
   "outputs": [
    {
     "name": "stdout",
     "output_type": "stream",
     "text": [
      "profit with a perfect analytics model: $8009852.89\n",
      "Lift: 1.505 (50.52% increase)\n"
     ]
    }
   ],
   "source": [
    "### with PERFECT analytics\n",
    "# if A is an influencer, profit = A_follower_count * 0.015% * 10 - 10. Same calculation for B\n",
    "profit_perfect = float(np.sum(np.where(train3.actual == 1, \\\n",
    "                                 train3.A_follower_count*0.00015*10-10, \\\n",
    "                                 train3.B_follower_count*0.00015*10-10)))\n",
    "lift_perfect = (profit_perfect - profit_no)/profit_no\n",
    "print(\"profit with a perfect analytics model: ${:.2f}\".format(profit_perfect))\n",
    "print(\"Lift: {:.3f} ({:.2%} increase)\".format(1+lift_perfect, lift_perfect))"
   ]
  },
  {
   "cell_type": "code",
   "execution_count": 23,
   "id": "zGr9POh1sPys",
   "metadata": {
    "colab": {
     "base_uri": "https://localhost:8080/"
    },
    "id": "zGr9POh1sPys",
    "outputId": "54a8831b-e4c8-4c2b-ed6b-c370e20a0172"
   },
   "outputs": [
    {
     "name": "stdout",
     "output_type": "stream",
     "text": [
      "A < B even though A has more followers than B: 656\n",
      "A < B even though A has more followers than B, but model predicts A > B: 107\n"
     ]
    }
   ],
   "source": [
    "# analysis on the lift difference\n",
    "print(\"A < B even though A has more followers than B:\", \\\n",
    "      np.where((train3.actual == 0) & (train3.A_follower_count > train3.B_follower_count), 1, 0).sum())\n",
    "print(\"A < B even though A has more followers than B, but model predicts A > B:\", \\\n",
    "      np.where((train3.correct_prediction == 0) & (train3.predicted == 1) & (train3.A_follower_count > train3.B_follower_count), 1, 0).sum())"
   ]
  },
  {
   "cell_type": "markdown",
   "id": "H3CfvawqsXV0",
   "metadata": {
    "id": "H3CfvawqsXV0"
   },
   "source": [
    "If we look deeper into the data, i.e., the `train3` data set, we see that there are many cases where A < B even though A has more followers. And our model wrongly predicted many of these cases. This is because that our model gives a bigger weight to the follower count of each user. But in reality there are lots of other factors determining an influencer. Therefore, in our model, lots of users were identified as an influencer mainly because of its follower counts and this could cause the variation in profit margin calculation."
   ]
  },
  {
   "cell_type": "code",
   "execution_count": null,
   "id": "juGDd2rb2Fkn",
   "metadata": {
    "id": "juGDd2rb2Fkn"
   },
   "outputs": [],
   "source": []
  }
 ],
 "metadata": {
  "colab": {
   "provenance": []
  },
  "kernelspec": {
   "display_name": "Python 3 (ipykernel)",
   "language": "python",
   "name": "python3"
  },
  "language_info": {
   "codemirror_mode": {
    "name": "ipython",
    "version": 3
   },
   "file_extension": ".py",
   "mimetype": "text/x-python",
   "name": "python",
   "nbconvert_exporter": "python",
   "pygments_lexer": "ipython3",
   "version": "3.9.12"
  }
 },
 "nbformat": 4,
 "nbformat_minor": 5
}
